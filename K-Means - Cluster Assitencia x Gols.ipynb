{
 "cells": [
  {
   "cell_type": "code",
   "execution_count": 9,
   "metadata": {},
   "outputs": [
    {
     "name": "stdout",
     "output_type": "stream",
     "text": [
      "Collecting plotly\n",
      "  Downloading plotly-5.7.0-py2.py3-none-any.whl (28.8 MB)\n",
      "Collecting tenacity>=6.2.0\n",
      "  Downloading tenacity-8.0.1-py3-none-any.whl (24 kB)\n",
      "Requirement already satisfied: six in c:\\users\\vscas\\anaconda3\\lib\\site-packages (from plotly) (1.15.0)\n",
      "Installing collected packages: tenacity, plotly\n",
      "Successfully installed plotly-5.7.0 tenacity-8.0.1\n"
     ]
    }
   ],
   "source": [
    "!pip3 install plotly"
   ]
  },
  {
   "cell_type": "code",
   "execution_count": 10,
   "metadata": {},
   "outputs": [],
   "source": [
    "#importando os pacotes\n",
    "\n",
    "import pandas as pd\n",
    "import seaborn as sns\n",
    "import matplotlib.pyplot as plt\n",
    "import plotly.express as px"
   ]
  },
  {
   "cell_type": "code",
   "execution_count": 11,
   "metadata": {},
   "outputs": [],
   "source": [
    "df = pd.read_csv('Big Data_football.csv', sep=',')\n",
    "df.set_index(\"Ranking\", inplace=True)"
   ]
  },
  {
   "cell_type": "code",
   "execution_count": 12,
   "metadata": {},
   "outputs": [
    {
     "data": {
      "text/html": [
       "<div>\n",
       "<style scoped>\n",
       "    .dataframe tbody tr th:only-of-type {\n",
       "        vertical-align: middle;\n",
       "    }\n",
       "\n",
       "    .dataframe tbody tr th {\n",
       "        vertical-align: top;\n",
       "    }\n",
       "\n",
       "    .dataframe thead th {\n",
       "        text-align: right;\n",
       "    }\n",
       "</style>\n",
       "<table border=\"1\" class=\"dataframe\">\n",
       "  <thead>\n",
       "    <tr style=\"text-align: right;\">\n",
       "      <th></th>\n",
       "      <th>Jogador</th>\n",
       "      <th>Nome</th>\n",
       "      <th>Clube</th>\n",
       "      <th>Idade</th>\n",
       "      <th>Posição</th>\n",
       "      <th>Partidas</th>\n",
       "      <th>Minutos</th>\n",
       "      <th>Gols</th>\n",
       "      <th>Assistências</th>\n",
       "      <th>Chutes a gol</th>\n",
       "      <th>Passes importantes</th>\n",
       "      <th>Dribles por partida</th>\n",
       "      <th>Faltas sofridas</th>\n",
       "      <th>Nota</th>\n",
       "    </tr>\n",
       "    <tr>\n",
       "      <th>Ranking</th>\n",
       "      <th></th>\n",
       "      <th></th>\n",
       "      <th></th>\n",
       "      <th></th>\n",
       "      <th></th>\n",
       "      <th></th>\n",
       "      <th></th>\n",
       "      <th></th>\n",
       "      <th></th>\n",
       "      <th></th>\n",
       "      <th></th>\n",
       "      <th></th>\n",
       "      <th></th>\n",
       "      <th></th>\n",
       "    </tr>\n",
       "  </thead>\n",
       "  <tbody>\n",
       "    <tr>\n",
       "      <th>1</th>\n",
       "      <td>Lionel Messi</td>\n",
       "      <td>Messi</td>\n",
       "      <td>Barcelona</td>\n",
       "      <td>32</td>\n",
       "      <td>FW</td>\n",
       "      <td>21</td>\n",
       "      <td>1891</td>\n",
       "      <td>19</td>\n",
       "      <td>12</td>\n",
       "      <td>4.8</td>\n",
       "      <td>2.5</td>\n",
       "      <td>5.4</td>\n",
       "      <td>1.7</td>\n",
       "      <td>8.61</td>\n",
       "    </tr>\n",
       "    <tr>\n",
       "      <th>2</th>\n",
       "      <td>Neymar</td>\n",
       "      <td>Neymar</td>\n",
       "      <td>Paris Saint-Germain</td>\n",
       "      <td>28</td>\n",
       "      <td>FW</td>\n",
       "      <td>15</td>\n",
       "      <td>1322</td>\n",
       "      <td>13</td>\n",
       "      <td>6</td>\n",
       "      <td>4.7</td>\n",
       "      <td>2.6</td>\n",
       "      <td>6.0</td>\n",
       "      <td>4.1</td>\n",
       "      <td>8.58</td>\n",
       "    </tr>\n",
       "    <tr>\n",
       "      <th>3</th>\n",
       "      <td>Robert Lewandowski</td>\n",
       "      <td>Lewandowski</td>\n",
       "      <td>Bayern Munich</td>\n",
       "      <td>31</td>\n",
       "      <td>FW</td>\n",
       "      <td>23</td>\n",
       "      <td>2042</td>\n",
       "      <td>25</td>\n",
       "      <td>3</td>\n",
       "      <td>4.7</td>\n",
       "      <td>1.2</td>\n",
       "      <td>2.1</td>\n",
       "      <td>1.5</td>\n",
       "      <td>8.16</td>\n",
       "    </tr>\n",
       "    <tr>\n",
       "      <th>4</th>\n",
       "      <td>Kylian Mbappé</td>\n",
       "      <td>Mbappé</td>\n",
       "      <td>Paris Saint-Germain</td>\n",
       "      <td>21</td>\n",
       "      <td>FW</td>\n",
       "      <td>17</td>\n",
       "      <td>1516</td>\n",
       "      <td>18</td>\n",
       "      <td>5</td>\n",
       "      <td>4.4</td>\n",
       "      <td>2.0</td>\n",
       "      <td>2.8</td>\n",
       "      <td>1.1</td>\n",
       "      <td>8.14</td>\n",
       "    </tr>\n",
       "    <tr>\n",
       "      <th>5</th>\n",
       "      <td>Josip Ilicic</td>\n",
       "      <td>Ilicic</td>\n",
       "      <td>Atalanta</td>\n",
       "      <td>32</td>\n",
       "      <td>FW</td>\n",
       "      <td>19</td>\n",
       "      <td>1492</td>\n",
       "      <td>15</td>\n",
       "      <td>5</td>\n",
       "      <td>3.6</td>\n",
       "      <td>2.5</td>\n",
       "      <td>2.6</td>\n",
       "      <td>2.4</td>\n",
       "      <td>7.95</td>\n",
       "    </tr>\n",
       "  </tbody>\n",
       "</table>\n",
       "</div>"
      ],
      "text/plain": [
       "                    Jogador          Nome                Clube Idade Posição  \\\n",
       "Ranking                                                                        \n",
       "1              Lionel Messi         Messi            Barcelona    32      FW   \n",
       "2                    Neymar        Neymar  Paris Saint-Germain    28      FW   \n",
       "3        Robert Lewandowski   Lewandowski        Bayern Munich    31      FW   \n",
       "4             Kylian Mbappé        Mbappé  Paris Saint-Germain    21      FW   \n",
       "5              Josip Ilicic        Ilicic             Atalanta    32      FW   \n",
       "\n",
       "         Partidas  Minutos  Gols  Assistências  Chutes a gol  \\\n",
       "Ranking                                                        \n",
       "1              21     1891    19            12           4.8   \n",
       "2              15     1322    13             6           4.7   \n",
       "3              23     2042    25             3           4.7   \n",
       "4              17     1516    18             5           4.4   \n",
       "5              19     1492    15             5           3.6   \n",
       "\n",
       "         Passes importantes  Dribles por partida  Faltas sofridas  Nota  \n",
       "Ranking                                                                  \n",
       "1                       2.5                  5.4              1.7  8.61  \n",
       "2                       2.6                  6.0              4.1  8.58  \n",
       "3                       1.2                  2.1              1.5  8.16  \n",
       "4                       2.0                  2.8              1.1  8.14  \n",
       "5                       2.5                  2.6              2.4  7.95  "
      ]
     },
     "execution_count": 12,
     "metadata": {},
     "output_type": "execute_result"
    }
   ],
   "source": [
    "df.head()"
   ]
  },
  {
   "cell_type": "code",
   "execution_count": 13,
   "metadata": {},
   "outputs": [
    {
     "name": "stdout",
     "output_type": "stream",
     "text": [
      "<class 'pandas.core.frame.DataFrame'>\n",
      "Int64Index: 50 entries, 1 to 50\n",
      "Data columns (total 14 columns):\n",
      " #   Column               Non-Null Count  Dtype  \n",
      "---  ------               --------------  -----  \n",
      " 0   Jogador              50 non-null     object \n",
      " 1   Nome                 50 non-null     object \n",
      " 2   Clube                50 non-null     object \n",
      " 3   Idade                50 non-null     object \n",
      " 4   Posição              50 non-null     object \n",
      " 5   Partidas             50 non-null     int64  \n",
      " 6   Minutos              50 non-null     int64  \n",
      " 7   Gols                 50 non-null     int64  \n",
      " 8   Assistências         50 non-null     int64  \n",
      " 9   Chutes a gol         50 non-null     float64\n",
      " 10  Passes importantes   50 non-null     float64\n",
      " 11  Dribles por partida  50 non-null     float64\n",
      " 12  Faltas sofridas      50 non-null     float64\n",
      " 13  Nota                 50 non-null     float64\n",
      "dtypes: float64(5), int64(4), object(5)\n",
      "memory usage: 5.9+ KB\n"
     ]
    }
   ],
   "source": [
    "df.info()"
   ]
  },
  {
   "cell_type": "code",
   "execution_count": 14,
   "metadata": {},
   "outputs": [
    {
     "data": {
      "text/plain": [
       "Index(['Jogador', 'Nome', 'Clube', 'Idade', 'Posição', 'Partidas', 'Minutos',\n",
       "       'Gols', 'Assistências', 'Chutes a gol', 'Passes importantes',\n",
       "       'Dribles por partida', 'Faltas sofridas', 'Nota'],\n",
       "      dtype='object')"
      ]
     },
     "execution_count": 14,
     "metadata": {},
     "output_type": "execute_result"
    }
   ],
   "source": [
    "#Puxando os nomes de cada coluna\n",
    "df.columns"
   ]
  },
  {
   "cell_type": "code",
   "execution_count": 33,
   "metadata": {},
   "outputs": [
    {
     "ename": "ValueError",
     "evalue": "Invalid property specified for object of type plotly.graph_objs.Scatter: 't'\n\nDid you mean \"x\"?\n\n    Valid properties:\n        cliponaxis\n            Determines whether or not markers and text nodes are\n            clipped about the subplot axes. To show markers and\n            text nodes above axis lines and tick labels, make sure\n            to set `xaxis.layer` and `yaxis.layer` to *below\n            traces*.\n        connectgaps\n            Determines whether or not gaps (i.e. {nan} or missing\n            values) in the provided data arrays are connected.\n        customdata\n            Assigns extra data each datum. This may be useful when\n            listening to hover, click and selection events. Note\n            that, \"scatter\" traces also appends customdata items in\n            the markers DOM elements\n        customdatasrc\n            Sets the source reference on Chart Studio Cloud for\n            `customdata`.\n        dx\n            Sets the x coordinate step. See `x0` for more info.\n        dy\n            Sets the y coordinate step. See `y0` for more info.\n        error_x\n            :class:`plotly.graph_objects.scatter.ErrorX` instance\n            or dict with compatible properties\n        error_y\n            :class:`plotly.graph_objects.scatter.ErrorY` instance\n            or dict with compatible properties\n        fill\n            Sets the area to fill with a solid color. Defaults to\n            \"none\" unless this trace is stacked, then it gets\n            \"tonexty\" (\"tonextx\") if `orientation` is \"v\" (\"h\") Use\n            with `fillcolor` if not \"none\". \"tozerox\" and \"tozeroy\"\n            fill to x=0 and y=0 respectively. \"tonextx\" and\n            \"tonexty\" fill between the endpoints of this trace and\n            the endpoints of the trace before it, connecting those\n            endpoints with straight lines (to make a stacked area\n            graph); if there is no trace before it, they behave\n            like \"tozerox\" and \"tozeroy\". \"toself\" connects the\n            endpoints of the trace (or each segment of the trace if\n            it has gaps) into a closed shape. \"tonext\" fills the\n            space between two traces if one completely encloses the\n            other (eg consecutive contour lines), and behaves like\n            \"toself\" if there is no trace before it. \"tonext\"\n            should not be used if one trace does not enclose the\n            other. Traces in a `stackgroup` will only fill to (or\n            be filled to) other traces in the same group. With\n            multiple `stackgroup`s or some traces stacked and some\n            not, if fill-linked traces are not already consecutive,\n            the later ones will be pushed down in the drawing\n            order.\n        fillcolor\n            Sets the fill color. Defaults to a half-transparent\n            variant of the line color, marker color, or marker line\n            color, whichever is available.\n        fillpattern\n            Sets the pattern within the marker.\n        groupnorm\n            Only relevant when `stackgroup` is used, and only the\n            first `groupnorm` found in the `stackgroup` will be\n            used - including if `visible` is \"legendonly\" but not\n            if it is `false`. Sets the normalization for the sum of\n            this `stackgroup`. With \"fraction\", the value of each\n            trace at each location is divided by the sum of all\n            trace values at that location. \"percent\" is the same\n            but multiplied by 100 to show percentages. If there are\n            multiple subplots, or multiple `stackgroup`s on one\n            subplot, each will be normalized within its own set.\n        hoverinfo\n            Determines which trace information appear on hover. If\n            `none` or `skip` are set, no information is displayed\n            upon hovering. But, if `none` is set, click and hover\n            events are still fired.\n        hoverinfosrc\n            Sets the source reference on Chart Studio Cloud for\n            `hoverinfo`.\n        hoverlabel\n            :class:`plotly.graph_objects.scatter.Hoverlabel`\n            instance or dict with compatible properties\n        hoveron\n            Do the hover effects highlight individual points\n            (markers or line points) or do they highlight filled\n            regions? If the fill is \"toself\" or \"tonext\" and there\n            are no markers or text, then the default is \"fills\",\n            otherwise it is \"points\".\n        hovertemplate\n            Template string used for rendering the information that\n            appear on hover box. Note that this will override\n            `hoverinfo`. Variables are inserted using %{variable},\n            for example \"y: %{y}\" as well as %{xother}, {%_xother},\n            {%_xother_}, {%xother_}. When showing info for several\n            points, \"xother\" will be added to those with different\n            x positions from the first point. An underscore before\n            or after \"(x|y)other\" will add a space on that side,\n            only when this field is shown. Numbers are formatted\n            using d3-format's syntax %{variable:d3-format}, for\n            example \"Price: %{y:$.2f}\".\n            https://github.com/d3/d3-format/tree/v1.4.5#d3-format\n            for details on the formatting syntax. Dates are\n            formatted using d3-time-format's syntax\n            %{variable|d3-time-format}, for example \"Day:\n            %{2019-01-01|%A}\". https://github.com/d3/d3-time-\n            format/tree/v2.2.3#locale_format for details on the\n            date formatting syntax. The variables available in\n            `hovertemplate` are the ones emitted as event data\n            described at this link\n            https://plotly.com/javascript/plotlyjs-events/#event-\n            data. Additionally, every attributes that can be\n            specified per-point (the ones that are `arrayOk: true`)\n            are available.  Anything contained in tag `<extra>` is\n            displayed in the secondary box, for example\n            \"<extra>{fullData.name}</extra>\". To hide the secondary\n            box completely, use an empty tag `<extra></extra>`.\n        hovertemplatesrc\n            Sets the source reference on Chart Studio Cloud for\n            `hovertemplate`.\n        hovertext\n            Sets hover text elements associated with each (x,y)\n            pair. If a single string, the same string appears over\n            all the data points. If an array of string, the items\n            are mapped in order to the this trace's (x,y)\n            coordinates. To be seen, trace `hoverinfo` must contain\n            a \"text\" flag.\n        hovertextsrc\n            Sets the source reference on Chart Studio Cloud for\n            `hovertext`.\n        ids\n            Assigns id labels to each datum. These ids for object\n            constancy of data points during animation. Should be an\n            array of strings, not numbers or any other type.\n        idssrc\n            Sets the source reference on Chart Studio Cloud for\n            `ids`.\n        legendgroup\n            Sets the legend group for this trace. Traces part of\n            the same legend group hide/show at the same time when\n            toggling legend items.\n        legendgrouptitle\n            :class:`plotly.graph_objects.scatter.Legendgrouptitle`\n            instance or dict with compatible properties\n        legendrank\n            Sets the legend rank for this trace. Items and groups\n            with smaller ranks are presented on top/left side while\n            with `*reversed* `legend.traceorder` they are on\n            bottom/right side. The default legendrank is 1000, so\n            that you can use ranks less than 1000 to place certain\n            items before all unranked items, and ranks greater than\n            1000 to go after all unranked items.\n        line\n            :class:`plotly.graph_objects.scatter.Line` instance or\n            dict with compatible properties\n        marker\n            :class:`plotly.graph_objects.scatter.Marker` instance\n            or dict with compatible properties\n        meta\n            Assigns extra meta information associated with this\n            trace that can be used in various text attributes.\n            Attributes such as trace `name`, graph, axis and\n            colorbar `title.text`, annotation `text`\n            `rangeselector`, `updatemenues` and `sliders` `label`\n            text all support `meta`. To access the trace `meta`\n            values in an attribute in the same trace, simply use\n            `%{meta[i]}` where `i` is the index or key of the\n            `meta` item in question. To access trace `meta` in\n            layout attributes, use `%{data[n[.meta[i]}` where `i`\n            is the index or key of the `meta` and `n` is the trace\n            index.\n        metasrc\n            Sets the source reference on Chart Studio Cloud for\n            `meta`.\n        mode\n            Determines the drawing mode for this scatter trace. If\n            the provided `mode` includes \"text\" then the `text`\n            elements appear at the coordinates. Otherwise, the\n            `text` elements appear on hover. If there are less than\n            20 points and the trace is not stacked then the default\n            is \"lines+markers\". Otherwise, \"lines\".\n        name\n            Sets the trace name. The trace name appear as the\n            legend item and on hover.\n        opacity\n            Sets the opacity of the trace.\n        orientation\n            Only relevant when `stackgroup` is used, and only the\n            first `orientation` found in the `stackgroup` will be\n            used - including if `visible` is \"legendonly\" but not\n            if it is `false`. Sets the stacking direction. With \"v\"\n            (\"h\"), the y (x) values of subsequent traces are added.\n            Also affects the default value of `fill`.\n        selected\n            :class:`plotly.graph_objects.scatter.Selected` instance\n            or dict with compatible properties\n        selectedpoints\n            Array containing integer indices of selected points.\n            Has an effect only for traces that support selections.\n            Note that an empty array means an empty selection where\n            the `unselected` are turned on for all points, whereas,\n            any other non-array values means no selection all where\n            the `selected` and `unselected` styles have no effect.\n        showlegend\n            Determines whether or not an item corresponding to this\n            trace is shown in the legend.\n        stackgaps\n            Only relevant when `stackgroup` is used, and only the\n            first `stackgaps` found in the `stackgroup` will be\n            used - including if `visible` is \"legendonly\" but not\n            if it is `false`. Determines how we handle locations at\n            which other traces in this group have data but this one\n            does not. With *infer zero* we insert a zero at these\n            locations. With \"interpolate\" we linearly interpolate\n            between existing values, and extrapolate a constant\n            beyond the existing values.\n        stackgroup\n            Set several scatter traces (on the same subplot) to the\n            same stackgroup in order to add their y values (or\n            their x values if `orientation` is \"h\"). If blank or\n            omitted this trace will not be stacked. Stacking also\n            turns `fill` on by default, using \"tonexty\" (\"tonextx\")\n            if `orientation` is \"h\" (\"v\") and sets the default\n            `mode` to \"lines\" irrespective of point count. You can\n            only stack on a numeric (linear or log) axis. Traces in\n            a `stackgroup` will only fill to (or be filled to)\n            other traces in the same group. With multiple\n            `stackgroup`s or some traces stacked and some not, if\n            fill-linked traces are not already consecutive, the\n            later ones will be pushed down in the drawing order.\n        stream\n            :class:`plotly.graph_objects.scatter.Stream` instance\n            or dict with compatible properties\n        text\n            Sets text elements associated with each (x,y) pair. If\n            a single string, the same string appears over all the\n            data points. If an array of string, the items are\n            mapped in order to the this trace's (x,y) coordinates.\n            If trace `hoverinfo` contains a \"text\" flag and\n            \"hovertext\" is not set, these elements will be seen in\n            the hover labels.\n        textfont\n            Sets the text font.\n        textposition\n            Sets the positions of the `text` elements with respects\n            to the (x,y) coordinates.\n        textpositionsrc\n            Sets the source reference on Chart Studio Cloud for\n            `textposition`.\n        textsrc\n            Sets the source reference on Chart Studio Cloud for\n            `text`.\n        texttemplate\n            Template string used for rendering the information text\n            that appear on points. Note that this will override\n            `textinfo`. Variables are inserted using %{variable},\n            for example \"y: %{y}\". Numbers are formatted using\n            d3-format's syntax %{variable:d3-format}, for example\n            \"Price: %{y:$.2f}\".\n            https://github.com/d3/d3-format/tree/v1.4.5#d3-format\n            for details on the formatting syntax. Dates are\n            formatted using d3-time-format's syntax\n            %{variable|d3-time-format}, for example \"Day:\n            %{2019-01-01|%A}\". https://github.com/d3/d3-time-\n            format/tree/v2.2.3#locale_format for details on the\n            date formatting syntax. Every attributes that can be\n            specified per-point (the ones that are `arrayOk: true`)\n            are available.\n        texttemplatesrc\n            Sets the source reference on Chart Studio Cloud for\n            `texttemplate`.\n        uid\n            Assign an id to this trace, Use this to provide object\n            constancy between traces during animations and\n            transitions.\n        uirevision\n            Controls persistence of some user-driven changes to the\n            trace: `constraintrange` in `parcoords` traces, as well\n            as some `editable: true` modifications such as `name`\n            and `colorbar.title`. Defaults to `layout.uirevision`.\n            Note that other user-driven trace attribute changes are\n            controlled by `layout` attributes: `trace.visible` is\n            controlled by `layout.legend.uirevision`,\n            `selectedpoints` is controlled by\n            `layout.selectionrevision`, and `colorbar.(x|y)`\n            (accessible with `config: {editable: true}`) is\n            controlled by `layout.editrevision`. Trace changes are\n            tracked by `uid`, which only falls back on trace index\n            if no `uid` is provided. So if your app can add/remove\n            traces before the end of the `data` array, such that\n            the same trace has a different index, you can still\n            preserve user-driven changes if you give each trace a\n            `uid` that stays with it as it moves.\n        unselected\n            :class:`plotly.graph_objects.scatter.Unselected`\n            instance or dict with compatible properties\n        visible\n            Determines whether or not this trace is visible. If\n            \"legendonly\", the trace is not drawn, but can appear as\n            a legend item (provided that the legend itself is\n            visible).\n        x\n            Sets the x coordinates.\n        x0\n            Alternate to `x`. Builds a linear space of x\n            coordinates. Use with `dx` where `x0` is the starting\n            coordinate and `dx` the step.\n        xaxis\n            Sets a reference between this trace's x coordinates and\n            a 2D cartesian x axis. If \"x\" (the default value), the\n            x coordinates refer to `layout.xaxis`. If \"x2\", the x\n            coordinates refer to `layout.xaxis2`, and so on.\n        xcalendar\n            Sets the calendar system to use with `x` date data.\n        xhoverformat\n            Sets the hover text formatting rulefor `x`  using d3\n            formatting mini-languages which are very similar to\n            those in Python. For numbers, see:\n            https://github.com/d3/d3-format/tree/v1.4.5#d3-format.\n            And for dates see: https://github.com/d3/d3-time-\n            format/tree/v2.2.3#locale_format. We add two items to\n            d3's date formatter: \"%h\" for half of the year as a\n            decimal number as well as \"%{n}f\" for fractional\n            seconds with n digits. For example, *2016-10-13\n            09:15:23.456* with tickformat \"%H~%M~%S.%2f\" would\n            display *09~15~23.46*By default the values are\n            formatted using `xaxis.hoverformat`.\n        xperiod\n            Only relevant when the axis `type` is \"date\". Sets the\n            period positioning in milliseconds or \"M<n>\" on the x\n            axis. Special values in the form of \"M<n>\" could be\n            used to declare the number of months. In this case `n`\n            must be a positive integer.\n        xperiod0\n            Only relevant when the axis `type` is \"date\". Sets the\n            base for period positioning in milliseconds or date\n            string on the x0 axis. When `x0period` is round number\n            of weeks, the `x0period0` by default would be on a\n            Sunday i.e. 2000-01-02, otherwise it would be at\n            2000-01-01.\n        xperiodalignment\n            Only relevant when the axis `type` is \"date\". Sets the\n            alignment of data points on the x axis.\n        xsrc\n            Sets the source reference on Chart Studio Cloud for\n            `x`.\n        y\n            Sets the y coordinates.\n        y0\n            Alternate to `y`. Builds a linear space of y\n            coordinates. Use with `dy` where `y0` is the starting\n            coordinate and `dy` the step.\n        yaxis\n            Sets a reference between this trace's y coordinates and\n            a 2D cartesian y axis. If \"y\" (the default value), the\n            y coordinates refer to `layout.yaxis`. If \"y2\", the y\n            coordinates refer to `layout.yaxis2`, and so on.\n        ycalendar\n            Sets the calendar system to use with `y` date data.\n        yhoverformat\n            Sets the hover text formatting rulefor `y`  using d3\n            formatting mini-languages which are very similar to\n            those in Python. For numbers, see:\n            https://github.com/d3/d3-format/tree/v1.4.5#d3-format.\n            And for dates see: https://github.com/d3/d3-time-\n            format/tree/v2.2.3#locale_format. We add two items to\n            d3's date formatter: \"%h\" for half of the year as a\n            decimal number as well as \"%{n}f\" for fractional\n            seconds with n digits. For example, *2016-10-13\n            09:15:23.456* with tickformat \"%H~%M~%S.%2f\" would\n            display *09~15~23.46*By default the values are\n            formatted using `yaxis.hoverformat`.\n        yperiod\n            Only relevant when the axis `type` is \"date\". Sets the\n            period positioning in milliseconds or \"M<n>\" on the y\n            axis. Special values in the form of \"M<n>\" could be\n            used to declare the number of months. In this case `n`\n            must be a positive integer.\n        yperiod0\n            Only relevant when the axis `type` is \"date\". Sets the\n            base for period positioning in milliseconds or date\n            string on the y0 axis. When `y0period` is round number\n            of weeks, the `y0period0` by default would be on a\n            Sunday i.e. 2000-01-02, otherwise it would be at\n            2000-01-01.\n        yperiodalignment\n            Only relevant when the axis `type` is \"date\". Sets the\n            alignment of data points on the y axis.\n        ysrc\n            Sets the source reference on Chart Studio Cloud for\n            `y`.\n        \nDid you mean \"x\"?\n\nBad property path:\nt\n^",
     "output_type": "error",
     "traceback": [
      "\u001b[1;31m---------------------------------------------------------------------------\u001b[0m",
      "\u001b[1;31mValueError\u001b[0m                                Traceback (most recent call last)",
      "\u001b[1;32m<ipython-input-33-fb7696c14465>\u001b[0m in \u001b[0;36m<module>\u001b[1;34m\u001b[0m\n\u001b[0;32m      1\u001b[0m \u001b[1;31m# Grafico de dispersão 2d considerando participações em gols\u001b[0m\u001b[1;33m\u001b[0m\u001b[1;33m\u001b[0m\u001b[1;33m\u001b[0m\u001b[0m\n\u001b[0;32m      2\u001b[0m \u001b[0mfig\u001b[0m \u001b[1;33m=\u001b[0m \u001b[0mpx\u001b[0m\u001b[1;33m.\u001b[0m\u001b[0mscatter\u001b[0m\u001b[1;33m(\u001b[0m\u001b[0mdf\u001b[0m\u001b[1;33m,\u001b[0m \u001b[0mx\u001b[0m \u001b[1;33m=\u001b[0m\u001b[1;34m\"Assistências\"\u001b[0m\u001b[1;33m,\u001b[0m \u001b[0my\u001b[0m \u001b[1;33m=\u001b[0m\u001b[1;34m\"Gols\"\u001b[0m\u001b[1;33m,\u001b[0m \u001b[0mcolor\u001b[0m \u001b[1;33m=\u001b[0m \u001b[1;34m\"Posição\"\u001b[0m\u001b[1;33m,\u001b[0m \u001b[0mtitle\u001b[0m \u001b[1;33m=\u001b[0m \u001b[1;34m\"Participação em Gols por Posição\"\u001b[0m\u001b[1;33m)\u001b[0m\u001b[1;33m\u001b[0m\u001b[1;33m\u001b[0m\u001b[0m\n\u001b[1;32m----> 3\u001b[1;33m \u001b[0mfig\u001b[0m\u001b[1;33m.\u001b[0m\u001b[0mupdate_traces\u001b[0m\u001b[1;33m(\u001b[0m\u001b[1;34m'top center'\u001b[0m\u001b[1;33m)\u001b[0m\u001b[1;33m\u001b[0m\u001b[1;33m\u001b[0m\u001b[0m\n\u001b[0m\u001b[0;32m      4\u001b[0m \u001b[0mfig\u001b[0m\u001b[1;33m.\u001b[0m\u001b[0mshow\u001b[0m\u001b[1;33m(\u001b[0m\u001b[1;33m)\u001b[0m\u001b[1;33m\u001b[0m\u001b[1;33m\u001b[0m\u001b[0m\n",
      "\u001b[1;32m~\\anaconda3\\lib\\site-packages\\plotly\\basedatatypes.py\u001b[0m in \u001b[0;36mupdate_traces\u001b[1;34m(self, patch, selector, row, col, secondary_y, overwrite, **kwargs)\u001b[0m\n\u001b[0;32m   1374\u001b[0m             \u001b[0mselector\u001b[0m\u001b[1;33m=\u001b[0m\u001b[0mselector\u001b[0m\u001b[1;33m,\u001b[0m \u001b[0mrow\u001b[0m\u001b[1;33m=\u001b[0m\u001b[0mrow\u001b[0m\u001b[1;33m,\u001b[0m \u001b[0mcol\u001b[0m\u001b[1;33m=\u001b[0m\u001b[0mcol\u001b[0m\u001b[1;33m,\u001b[0m \u001b[0msecondary_y\u001b[0m\u001b[1;33m=\u001b[0m\u001b[0msecondary_y\u001b[0m\u001b[1;33m\u001b[0m\u001b[1;33m\u001b[0m\u001b[0m\n\u001b[0;32m   1375\u001b[0m         ):\n\u001b[1;32m-> 1376\u001b[1;33m             \u001b[0mtrace\u001b[0m\u001b[1;33m.\u001b[0m\u001b[0mupdate\u001b[0m\u001b[1;33m(\u001b[0m\u001b[0mpatch\u001b[0m\u001b[1;33m,\u001b[0m \u001b[0moverwrite\u001b[0m\u001b[1;33m=\u001b[0m\u001b[0moverwrite\u001b[0m\u001b[1;33m,\u001b[0m \u001b[1;33m**\u001b[0m\u001b[0mkwargs\u001b[0m\u001b[1;33m)\u001b[0m\u001b[1;33m\u001b[0m\u001b[1;33m\u001b[0m\u001b[0m\n\u001b[0m\u001b[0;32m   1377\u001b[0m         \u001b[1;32mreturn\u001b[0m \u001b[0mself\u001b[0m\u001b[1;33m\u001b[0m\u001b[1;33m\u001b[0m\u001b[0m\n\u001b[0;32m   1378\u001b[0m \u001b[1;33m\u001b[0m\u001b[0m\n",
      "\u001b[1;32m~\\anaconda3\\lib\\site-packages\\plotly\\basedatatypes.py\u001b[0m in \u001b[0;36mupdate\u001b[1;34m(self, dict1, overwrite, **kwargs)\u001b[0m\n\u001b[0;32m   5096\u001b[0m         \u001b[1;32mif\u001b[0m \u001b[0mself\u001b[0m\u001b[1;33m.\u001b[0m\u001b[0mfigure\u001b[0m\u001b[1;33m:\u001b[0m\u001b[1;33m\u001b[0m\u001b[1;33m\u001b[0m\u001b[0m\n\u001b[0;32m   5097\u001b[0m             \u001b[1;32mwith\u001b[0m \u001b[0mself\u001b[0m\u001b[1;33m.\u001b[0m\u001b[0mfigure\u001b[0m\u001b[1;33m.\u001b[0m\u001b[0mbatch_update\u001b[0m\u001b[1;33m(\u001b[0m\u001b[1;33m)\u001b[0m\u001b[1;33m:\u001b[0m\u001b[1;33m\u001b[0m\u001b[1;33m\u001b[0m\u001b[0m\n\u001b[1;32m-> 5098\u001b[1;33m                 \u001b[0mBaseFigure\u001b[0m\u001b[1;33m.\u001b[0m\u001b[0m_perform_update\u001b[0m\u001b[1;33m(\u001b[0m\u001b[0mself\u001b[0m\u001b[1;33m,\u001b[0m \u001b[0mdict1\u001b[0m\u001b[1;33m,\u001b[0m \u001b[0moverwrite\u001b[0m\u001b[1;33m=\u001b[0m\u001b[0moverwrite\u001b[0m\u001b[1;33m)\u001b[0m\u001b[1;33m\u001b[0m\u001b[1;33m\u001b[0m\u001b[0m\n\u001b[0m\u001b[0;32m   5099\u001b[0m                 \u001b[0mBaseFigure\u001b[0m\u001b[1;33m.\u001b[0m\u001b[0m_perform_update\u001b[0m\u001b[1;33m(\u001b[0m\u001b[0mself\u001b[0m\u001b[1;33m,\u001b[0m \u001b[0mkwargs\u001b[0m\u001b[1;33m,\u001b[0m \u001b[0moverwrite\u001b[0m\u001b[1;33m=\u001b[0m\u001b[0moverwrite\u001b[0m\u001b[1;33m)\u001b[0m\u001b[1;33m\u001b[0m\u001b[1;33m\u001b[0m\u001b[0m\n\u001b[0;32m   5100\u001b[0m         \u001b[1;32melse\u001b[0m\u001b[1;33m:\u001b[0m\u001b[1;33m\u001b[0m\u001b[1;33m\u001b[0m\u001b[0m\n",
      "\u001b[1;32m~\\anaconda3\\lib\\site-packages\\plotly\\basedatatypes.py\u001b[0m in \u001b[0;36m_perform_update\u001b[1;34m(plotly_obj, update_obj, overwrite)\u001b[0m\n\u001b[0;32m   3885\u001b[0m                     \u001b[1;31m# contain the _raise_on_invalid_property_error\u001b[0m\u001b[1;33m\u001b[0m\u001b[1;33m\u001b[0m\u001b[1;33m\u001b[0m\u001b[0m\n\u001b[0;32m   3886\u001b[0m                     \u001b[1;31m# generated message\u001b[0m\u001b[1;33m\u001b[0m\u001b[1;33m\u001b[0m\u001b[1;33m\u001b[0m\u001b[0m\n\u001b[1;32m-> 3887\u001b[1;33m                     \u001b[1;32mraise\u001b[0m \u001b[0merr\u001b[0m\u001b[1;33m\u001b[0m\u001b[1;33m\u001b[0m\u001b[0m\n\u001b[0m\u001b[0;32m   3888\u001b[0m \u001b[1;33m\u001b[0m\u001b[0m\n\u001b[0;32m   3889\u001b[0m             \u001b[1;31m# Convert update_obj to dict\u001b[0m\u001b[1;33m\u001b[0m\u001b[1;33m\u001b[0m\u001b[1;33m\u001b[0m\u001b[0m\n",
      "\u001b[1;31mValueError\u001b[0m: Invalid property specified for object of type plotly.graph_objs.Scatter: 't'\n\nDid you mean \"x\"?\n\n    Valid properties:\n        cliponaxis\n            Determines whether or not markers and text nodes are\n            clipped about the subplot axes. To show markers and\n            text nodes above axis lines and tick labels, make sure\n            to set `xaxis.layer` and `yaxis.layer` to *below\n            traces*.\n        connectgaps\n            Determines whether or not gaps (i.e. {nan} or missing\n            values) in the provided data arrays are connected.\n        customdata\n            Assigns extra data each datum. This may be useful when\n            listening to hover, click and selection events. Note\n            that, \"scatter\" traces also appends customdata items in\n            the markers DOM elements\n        customdatasrc\n            Sets the source reference on Chart Studio Cloud for\n            `customdata`.\n        dx\n            Sets the x coordinate step. See `x0` for more info.\n        dy\n            Sets the y coordinate step. See `y0` for more info.\n        error_x\n            :class:`plotly.graph_objects.scatter.ErrorX` instance\n            or dict with compatible properties\n        error_y\n            :class:`plotly.graph_objects.scatter.ErrorY` instance\n            or dict with compatible properties\n        fill\n            Sets the area to fill with a solid color. Defaults to\n            \"none\" unless this trace is stacked, then it gets\n            \"tonexty\" (\"tonextx\") if `orientation` is \"v\" (\"h\") Use\n            with `fillcolor` if not \"none\". \"tozerox\" and \"tozeroy\"\n            fill to x=0 and y=0 respectively. \"tonextx\" and\n            \"tonexty\" fill between the endpoints of this trace and\n            the endpoints of the trace before it, connecting those\n            endpoints with straight lines (to make a stacked area\n            graph); if there is no trace before it, they behave\n            like \"tozerox\" and \"tozeroy\". \"toself\" connects the\n            endpoints of the trace (or each segment of the trace if\n            it has gaps) into a closed shape. \"tonext\" fills the\n            space between two traces if one completely encloses the\n            other (eg consecutive contour lines), and behaves like\n            \"toself\" if there is no trace before it. \"tonext\"\n            should not be used if one trace does not enclose the\n            other. Traces in a `stackgroup` will only fill to (or\n            be filled to) other traces in the same group. With\n            multiple `stackgroup`s or some traces stacked and some\n            not, if fill-linked traces are not already consecutive,\n            the later ones will be pushed down in the drawing\n            order.\n        fillcolor\n            Sets the fill color. Defaults to a half-transparent\n            variant of the line color, marker color, or marker line\n            color, whichever is available.\n        fillpattern\n            Sets the pattern within the marker.\n        groupnorm\n            Only relevant when `stackgroup` is used, and only the\n            first `groupnorm` found in the `stackgroup` will be\n            used - including if `visible` is \"legendonly\" but not\n            if it is `false`. Sets the normalization for the sum of\n            this `stackgroup`. With \"fraction\", the value of each\n            trace at each location is divided by the sum of all\n            trace values at that location. \"percent\" is the same\n            but multiplied by 100 to show percentages. If there are\n            multiple subplots, or multiple `stackgroup`s on one\n            subplot, each will be normalized within its own set.\n        hoverinfo\n            Determines which trace information appear on hover. If\n            `none` or `skip` are set, no information is displayed\n            upon hovering. But, if `none` is set, click and hover\n            events are still fired.\n        hoverinfosrc\n            Sets the source reference on Chart Studio Cloud for\n            `hoverinfo`.\n        hoverlabel\n            :class:`plotly.graph_objects.scatter.Hoverlabel`\n            instance or dict with compatible properties\n        hoveron\n            Do the hover effects highlight individual points\n            (markers or line points) or do they highlight filled\n            regions? If the fill is \"toself\" or \"tonext\" and there\n            are no markers or text, then the default is \"fills\",\n            otherwise it is \"points\".\n        hovertemplate\n            Template string used for rendering the information that\n            appear on hover box. Note that this will override\n            `hoverinfo`. Variables are inserted using %{variable},\n            for example \"y: %{y}\" as well as %{xother}, {%_xother},\n            {%_xother_}, {%xother_}. When showing info for several\n            points, \"xother\" will be added to those with different\n            x positions from the first point. An underscore before\n            or after \"(x|y)other\" will add a space on that side,\n            only when this field is shown. Numbers are formatted\n            using d3-format's syntax %{variable:d3-format}, for\n            example \"Price: %{y:$.2f}\".\n            https://github.com/d3/d3-format/tree/v1.4.5#d3-format\n            for details on the formatting syntax. Dates are\n            formatted using d3-time-format's syntax\n            %{variable|d3-time-format}, for example \"Day:\n            %{2019-01-01|%A}\". https://github.com/d3/d3-time-\n            format/tree/v2.2.3#locale_format for details on the\n            date formatting syntax. The variables available in\n            `hovertemplate` are the ones emitted as event data\n            described at this link\n            https://plotly.com/javascript/plotlyjs-events/#event-\n            data. Additionally, every attributes that can be\n            specified per-point (the ones that are `arrayOk: true`)\n            are available.  Anything contained in tag `<extra>` is\n            displayed in the secondary box, for example\n            \"<extra>{fullData.name}</extra>\". To hide the secondary\n            box completely, use an empty tag `<extra></extra>`.\n        hovertemplatesrc\n            Sets the source reference on Chart Studio Cloud for\n            `hovertemplate`.\n        hovertext\n            Sets hover text elements associated with each (x,y)\n            pair. If a single string, the same string appears over\n            all the data points. If an array of string, the items\n            are mapped in order to the this trace's (x,y)\n            coordinates. To be seen, trace `hoverinfo` must contain\n            a \"text\" flag.\n        hovertextsrc\n            Sets the source reference on Chart Studio Cloud for\n            `hovertext`.\n        ids\n            Assigns id labels to each datum. These ids for object\n            constancy of data points during animation. Should be an\n            array of strings, not numbers or any other type.\n        idssrc\n            Sets the source reference on Chart Studio Cloud for\n            `ids`.\n        legendgroup\n            Sets the legend group for this trace. Traces part of\n            the same legend group hide/show at the same time when\n            toggling legend items.\n        legendgrouptitle\n            :class:`plotly.graph_objects.scatter.Legendgrouptitle`\n            instance or dict with compatible properties\n        legendrank\n            Sets the legend rank for this trace. Items and groups\n            with smaller ranks are presented on top/left side while\n            with `*reversed* `legend.traceorder` they are on\n            bottom/right side. The default legendrank is 1000, so\n            that you can use ranks less than 1000 to place certain\n            items before all unranked items, and ranks greater than\n            1000 to go after all unranked items.\n        line\n            :class:`plotly.graph_objects.scatter.Line` instance or\n            dict with compatible properties\n        marker\n            :class:`plotly.graph_objects.scatter.Marker` instance\n            or dict with compatible properties\n        meta\n            Assigns extra meta information associated with this\n            trace that can be used in various text attributes.\n            Attributes such as trace `name`, graph, axis and\n            colorbar `title.text`, annotation `text`\n            `rangeselector`, `updatemenues` and `sliders` `label`\n            text all support `meta`. To access the trace `meta`\n            values in an attribute in the same trace, simply use\n            `%{meta[i]}` where `i` is the index or key of the\n            `meta` item in question. To access trace `meta` in\n            layout attributes, use `%{data[n[.meta[i]}` where `i`\n            is the index or key of the `meta` and `n` is the trace\n            index.\n        metasrc\n            Sets the source reference on Chart Studio Cloud for\n            `meta`.\n        mode\n            Determines the drawing mode for this scatter trace. If\n            the provided `mode` includes \"text\" then the `text`\n            elements appear at the coordinates. Otherwise, the\n            `text` elements appear on hover. If there are less than\n            20 points and the trace is not stacked then the default\n            is \"lines+markers\". Otherwise, \"lines\".\n        name\n            Sets the trace name. The trace name appear as the\n            legend item and on hover.\n        opacity\n            Sets the opacity of the trace.\n        orientation\n            Only relevant when `stackgroup` is used, and only the\n            first `orientation` found in the `stackgroup` will be\n            used - including if `visible` is \"legendonly\" but not\n            if it is `false`. Sets the stacking direction. With \"v\"\n            (\"h\"), the y (x) values of subsequent traces are added.\n            Also affects the default value of `fill`.\n        selected\n            :class:`plotly.graph_objects.scatter.Selected` instance\n            or dict with compatible properties\n        selectedpoints\n            Array containing integer indices of selected points.\n            Has an effect only for traces that support selections.\n            Note that an empty array means an empty selection where\n            the `unselected` are turned on for all points, whereas,\n            any other non-array values means no selection all where\n            the `selected` and `unselected` styles have no effect.\n        showlegend\n            Determines whether or not an item corresponding to this\n            trace is shown in the legend.\n        stackgaps\n            Only relevant when `stackgroup` is used, and only the\n            first `stackgaps` found in the `stackgroup` will be\n            used - including if `visible` is \"legendonly\" but not\n            if it is `false`. Determines how we handle locations at\n            which other traces in this group have data but this one\n            does not. With *infer zero* we insert a zero at these\n            locations. With \"interpolate\" we linearly interpolate\n            between existing values, and extrapolate a constant\n            beyond the existing values.\n        stackgroup\n            Set several scatter traces (on the same subplot) to the\n            same stackgroup in order to add their y values (or\n            their x values if `orientation` is \"h\"). If blank or\n            omitted this trace will not be stacked. Stacking also\n            turns `fill` on by default, using \"tonexty\" (\"tonextx\")\n            if `orientation` is \"h\" (\"v\") and sets the default\n            `mode` to \"lines\" irrespective of point count. You can\n            only stack on a numeric (linear or log) axis. Traces in\n            a `stackgroup` will only fill to (or be filled to)\n            other traces in the same group. With multiple\n            `stackgroup`s or some traces stacked and some not, if\n            fill-linked traces are not already consecutive, the\n            later ones will be pushed down in the drawing order.\n        stream\n            :class:`plotly.graph_objects.scatter.Stream` instance\n            or dict with compatible properties\n        text\n            Sets text elements associated with each (x,y) pair. If\n            a single string, the same string appears over all the\n            data points. If an array of string, the items are\n            mapped in order to the this trace's (x,y) coordinates.\n            If trace `hoverinfo` contains a \"text\" flag and\n            \"hovertext\" is not set, these elements will be seen in\n            the hover labels.\n        textfont\n            Sets the text font.\n        textposition\n            Sets the positions of the `text` elements with respects\n            to the (x,y) coordinates.\n        textpositionsrc\n            Sets the source reference on Chart Studio Cloud for\n            `textposition`.\n        textsrc\n            Sets the source reference on Chart Studio Cloud for\n            `text`.\n        texttemplate\n            Template string used for rendering the information text\n            that appear on points. Note that this will override\n            `textinfo`. Variables are inserted using %{variable},\n            for example \"y: %{y}\". Numbers are formatted using\n            d3-format's syntax %{variable:d3-format}, for example\n            \"Price: %{y:$.2f}\".\n            https://github.com/d3/d3-format/tree/v1.4.5#d3-format\n            for details on the formatting syntax. Dates are\n            formatted using d3-time-format's syntax\n            %{variable|d3-time-format}, for example \"Day:\n            %{2019-01-01|%A}\". https://github.com/d3/d3-time-\n            format/tree/v2.2.3#locale_format for details on the\n            date formatting syntax. Every attributes that can be\n            specified per-point (the ones that are `arrayOk: true`)\n            are available.\n        texttemplatesrc\n            Sets the source reference on Chart Studio Cloud for\n            `texttemplate`.\n        uid\n            Assign an id to this trace, Use this to provide object\n            constancy between traces during animations and\n            transitions.\n        uirevision\n            Controls persistence of some user-driven changes to the\n            trace: `constraintrange` in `parcoords` traces, as well\n            as some `editable: true` modifications such as `name`\n            and `colorbar.title`. Defaults to `layout.uirevision`.\n            Note that other user-driven trace attribute changes are\n            controlled by `layout` attributes: `trace.visible` is\n            controlled by `layout.legend.uirevision`,\n            `selectedpoints` is controlled by\n            `layout.selectionrevision`, and `colorbar.(x|y)`\n            (accessible with `config: {editable: true}`) is\n            controlled by `layout.editrevision`. Trace changes are\n            tracked by `uid`, which only falls back on trace index\n            if no `uid` is provided. So if your app can add/remove\n            traces before the end of the `data` array, such that\n            the same trace has a different index, you can still\n            preserve user-driven changes if you give each trace a\n            `uid` that stays with it as it moves.\n        unselected\n            :class:`plotly.graph_objects.scatter.Unselected`\n            instance or dict with compatible properties\n        visible\n            Determines whether or not this trace is visible. If\n            \"legendonly\", the trace is not drawn, but can appear as\n            a legend item (provided that the legend itself is\n            visible).\n        x\n            Sets the x coordinates.\n        x0\n            Alternate to `x`. Builds a linear space of x\n            coordinates. Use with `dx` where `x0` is the starting\n            coordinate and `dx` the step.\n        xaxis\n            Sets a reference between this trace's x coordinates and\n            a 2D cartesian x axis. If \"x\" (the default value), the\n            x coordinates refer to `layout.xaxis`. If \"x2\", the x\n            coordinates refer to `layout.xaxis2`, and so on.\n        xcalendar\n            Sets the calendar system to use with `x` date data.\n        xhoverformat\n            Sets the hover text formatting rulefor `x`  using d3\n            formatting mini-languages which are very similar to\n            those in Python. For numbers, see:\n            https://github.com/d3/d3-format/tree/v1.4.5#d3-format.\n            And for dates see: https://github.com/d3/d3-time-\n            format/tree/v2.2.3#locale_format. We add two items to\n            d3's date formatter: \"%h\" for half of the year as a\n            decimal number as well as \"%{n}f\" for fractional\n            seconds with n digits. For example, *2016-10-13\n            09:15:23.456* with tickformat \"%H~%M~%S.%2f\" would\n            display *09~15~23.46*By default the values are\n            formatted using `xaxis.hoverformat`.\n        xperiod\n            Only relevant when the axis `type` is \"date\". Sets the\n            period positioning in milliseconds or \"M<n>\" on the x\n            axis. Special values in the form of \"M<n>\" could be\n            used to declare the number of months. In this case `n`\n            must be a positive integer.\n        xperiod0\n            Only relevant when the axis `type` is \"date\". Sets the\n            base for period positioning in milliseconds or date\n            string on the x0 axis. When `x0period` is round number\n            of weeks, the `x0period0` by default would be on a\n            Sunday i.e. 2000-01-02, otherwise it would be at\n            2000-01-01.\n        xperiodalignment\n            Only relevant when the axis `type` is \"date\". Sets the\n            alignment of data points on the x axis.\n        xsrc\n            Sets the source reference on Chart Studio Cloud for\n            `x`.\n        y\n            Sets the y coordinates.\n        y0\n            Alternate to `y`. Builds a linear space of y\n            coordinates. Use with `dy` where `y0` is the starting\n            coordinate and `dy` the step.\n        yaxis\n            Sets a reference between this trace's y coordinates and\n            a 2D cartesian y axis. If \"y\" (the default value), the\n            y coordinates refer to `layout.yaxis`. If \"y2\", the y\n            coordinates refer to `layout.yaxis2`, and so on.\n        ycalendar\n            Sets the calendar system to use with `y` date data.\n        yhoverformat\n            Sets the hover text formatting rulefor `y`  using d3\n            formatting mini-languages which are very similar to\n            those in Python. For numbers, see:\n            https://github.com/d3/d3-format/tree/v1.4.5#d3-format.\n            And for dates see: https://github.com/d3/d3-time-\n            format/tree/v2.2.3#locale_format. We add two items to\n            d3's date formatter: \"%h\" for half of the year as a\n            decimal number as well as \"%{n}f\" for fractional\n            seconds with n digits. For example, *2016-10-13\n            09:15:23.456* with tickformat \"%H~%M~%S.%2f\" would\n            display *09~15~23.46*By default the values are\n            formatted using `yaxis.hoverformat`.\n        yperiod\n            Only relevant when the axis `type` is \"date\". Sets the\n            period positioning in milliseconds or \"M<n>\" on the y\n            axis. Special values in the form of \"M<n>\" could be\n            used to declare the number of months. In this case `n`\n            must be a positive integer.\n        yperiod0\n            Only relevant when the axis `type` is \"date\". Sets the\n            base for period positioning in milliseconds or date\n            string on the y0 axis. When `y0period` is round number\n            of weeks, the `y0period0` by default would be on a\n            Sunday i.e. 2000-01-02, otherwise it would be at\n            2000-01-01.\n        yperiodalignment\n            Only relevant when the axis `type` is \"date\". Sets the\n            alignment of data points on the y axis.\n        ysrc\n            Sets the source reference on Chart Studio Cloud for\n            `y`.\n        \nDid you mean \"x\"?\n\nBad property path:\nt\n^"
     ]
    }
   ],
   "source": [
    "# Grafico de dispersão 2d considerando participações em gols\n",
    "fig = px.scatter(df, x =\"Assistências\", y =\"Gols\", color = \"Posição\", text = \"Posição\", title = \"Participação em Gols por Posição\")\n",
    "fig.update_traces('top center')\n",
    "fig.show()"
   ]
  },
  {
   "cell_type": "code",
   "execution_count": 21,
   "metadata": {},
   "outputs": [],
   "source": [
    "# importando o metodo Kmeans de clusterização\n",
    "from sklearn.cluster import KMeans"
   ]
  },
  {
   "cell_type": "code",
   "execution_count": 25,
   "metadata": {},
   "outputs": [],
   "source": [
    "# definindo colunas que serão estudadas\n",
    "X = df[['Assistências','Gols']]\n",
    "\n",
    "# utilizar a Soma dos quadrados para calcular a próximidade dos grupos\n",
    "soma_quadrados_internos=[]\n",
    "\n",
    "for i in range(1,11):\n",
    "    kmeans = KMeans(n_clusters=i, random_state=0)\n",
    "    kmeans.fit(X)\n",
    "    soma_quadrados_internos.append(kmeans.inertia_)\n"
   ]
  },
  {
   "cell_type": "code",
   "execution_count": 27,
   "metadata": {},
   "outputs": [
    {
     "data": {
      "image/png": "[encoded data removed]",
      "text/plain": [
       "<Figure size 1080x576 with 1 Axes>"
      ]
     },
     "metadata": {
      "needs_background": "light"
     },
     "output_type": "display_data"
    }
   ],
   "source": [
    "# Visualizar o grafico para definir o número ideal de clusters\n",
    "\n",
    "ax = sns.lineplot(x = range(1,11), y = soma_quadrados_internos)\n",
    "ax.figure.set_size_inches(15,8)\n",
    "plt.title('Método do cotovelo', fontsize = 18)\n",
    "plt.xlabel('Número de clusters', fontsize = 12)\n",
    "plt.ylabel('Soma dos quadrados entre os clusters', fontsize = 12)\n",
    "plt.show()"
   ]
  },
  {
   "cell_type": "code",
   "execution_count": 29,
   "metadata": {},
   "outputs": [],
   "source": [
    "# Utilizando o número de claster ideal, para criar uma nova coluna no dataset com a classificação de cada jogador\n",
    "kmeans_5 = KMeans(n_clusters=5, random_state=0)\n",
    "y_kmeans = kmeans_5.fit_predict(X)\n",
    "labels = kmeans_5.labels_\n",
    "df['label']=labels"
   ]
  },
  {
   "cell_type": "code",
   "execution_count": 44,
   "metadata": {},
   "outputs": [],
   "source": [
    "#Nomeando cada cluster\n",
    "\n",
    "df.loc[df['label']== 4, 'Categoria'] = 'Suporte nas assistências'\n",
    "df.loc[df['label']== 3, 'Categoria'] = 'Lider de assistências'\n",
    "df.loc[df['label']== 3, 'Categoria'] = 'Artilheiros'\n",
    "df.loc[df['label']== 1, 'Categoria'] = 'Discreto'\n",
    "df.loc[df['label']== 0, 'Categoria'] = 'Suporte nos gols'"
   ]
  },
  {
   "cell_type": "code",
   "execution_count": 41,
   "metadata": {},
   "outputs": [
    {
     "data": {
      "text/html": [
       "<div>\n",
       "<style scoped>\n",
       "    .dataframe tbody tr th:only-of-type {\n",
       "        vertical-align: middle;\n",
       "    }\n",
       "\n",
       "    .dataframe tbody tr th {\n",
       "        vertical-align: top;\n",
       "    }\n",
       "\n",
       "    .dataframe thead th {\n",
       "        text-align: right;\n",
       "    }\n",
       "</style>\n",
       "<table border=\"1\" class=\"dataframe\">\n",
       "  <thead>\n",
       "    <tr style=\"text-align: right;\">\n",
       "      <th></th>\n",
       "      <th>Jogador</th>\n",
       "      <th>Nome</th>\n",
       "      <th>Clube</th>\n",
       "      <th>Idade</th>\n",
       "      <th>Posição</th>\n",
       "      <th>Partidas</th>\n",
       "      <th>Minutos</th>\n",
       "      <th>Gols</th>\n",
       "      <th>Assistências</th>\n",
       "      <th>Chutes a gol</th>\n",
       "      <th>Passes importantes</th>\n",
       "      <th>Dribles por partida</th>\n",
       "      <th>Faltas sofridas</th>\n",
       "      <th>Nota</th>\n",
       "      <th>label</th>\n",
       "      <th>Categoria</th>\n",
       "    </tr>\n",
       "    <tr>\n",
       "      <th>Ranking</th>\n",
       "      <th></th>\n",
       "      <th></th>\n",
       "      <th></th>\n",
       "      <th></th>\n",
       "      <th></th>\n",
       "      <th></th>\n",
       "      <th></th>\n",
       "      <th></th>\n",
       "      <th></th>\n",
       "      <th></th>\n",
       "      <th></th>\n",
       "      <th></th>\n",
       "      <th></th>\n",
       "      <th></th>\n",
       "      <th></th>\n",
       "      <th></th>\n",
       "    </tr>\n",
       "  </thead>\n",
       "  <tbody>\n",
       "    <tr>\n",
       "      <th>1</th>\n",
       "      <td>Lionel Messi</td>\n",
       "      <td>Messi</td>\n",
       "      <td>Barcelona</td>\n",
       "      <td>32</td>\n",
       "      <td>FW</td>\n",
       "      <td>21</td>\n",
       "      <td>1891</td>\n",
       "      <td>19</td>\n",
       "      <td>12</td>\n",
       "      <td>4.8</td>\n",
       "      <td>2.5</td>\n",
       "      <td>5.4</td>\n",
       "      <td>1.7</td>\n",
       "      <td>8.61</td>\n",
       "      <td>3</td>\n",
       "      <td>Fora de serie</td>\n",
       "    </tr>\n",
       "    <tr>\n",
       "      <th>2</th>\n",
       "      <td>Neymar</td>\n",
       "      <td>Neymar</td>\n",
       "      <td>Paris Saint-Germain</td>\n",
       "      <td>28</td>\n",
       "      <td>FW</td>\n",
       "      <td>15</td>\n",
       "      <td>1322</td>\n",
       "      <td>13</td>\n",
       "      <td>6</td>\n",
       "      <td>4.7</td>\n",
       "      <td>2.6</td>\n",
       "      <td>6.0</td>\n",
       "      <td>4.1</td>\n",
       "      <td>8.58</td>\n",
       "      <td>0</td>\n",
       "      <td>Colaborativo</td>\n",
       "    </tr>\n",
       "    <tr>\n",
       "      <th>3</th>\n",
       "      <td>Robert Lewandowski</td>\n",
       "      <td>Lewandowski</td>\n",
       "      <td>Bayern Munich</td>\n",
       "      <td>31</td>\n",
       "      <td>FW</td>\n",
       "      <td>23</td>\n",
       "      <td>2042</td>\n",
       "      <td>25</td>\n",
       "      <td>3</td>\n",
       "      <td>4.7</td>\n",
       "      <td>1.2</td>\n",
       "      <td>2.1</td>\n",
       "      <td>1.5</td>\n",
       "      <td>8.16</td>\n",
       "      <td>3</td>\n",
       "      <td>Fora de serie</td>\n",
       "    </tr>\n",
       "    <tr>\n",
       "      <th>4</th>\n",
       "      <td>Kylian Mbappé</td>\n",
       "      <td>Mbappé</td>\n",
       "      <td>Paris Saint-Germain</td>\n",
       "      <td>21</td>\n",
       "      <td>FW</td>\n",
       "      <td>17</td>\n",
       "      <td>1516</td>\n",
       "      <td>18</td>\n",
       "      <td>5</td>\n",
       "      <td>4.4</td>\n",
       "      <td>2.0</td>\n",
       "      <td>2.8</td>\n",
       "      <td>1.1</td>\n",
       "      <td>8.14</td>\n",
       "      <td>3</td>\n",
       "      <td>Fora de serie</td>\n",
       "    </tr>\n",
       "    <tr>\n",
       "      <th>5</th>\n",
       "      <td>Josip Ilicic</td>\n",
       "      <td>Ilicic</td>\n",
       "      <td>Atalanta</td>\n",
       "      <td>32</td>\n",
       "      <td>FW</td>\n",
       "      <td>19</td>\n",
       "      <td>1492</td>\n",
       "      <td>15</td>\n",
       "      <td>5</td>\n",
       "      <td>3.6</td>\n",
       "      <td>2.5</td>\n",
       "      <td>2.6</td>\n",
       "      <td>2.4</td>\n",
       "      <td>7.95</td>\n",
       "      <td>0</td>\n",
       "      <td>Colaborativo</td>\n",
       "    </tr>\n",
       "    <tr>\n",
       "      <th>6</th>\n",
       "      <td>Kevin De Bruyne</td>\n",
       "      <td>De Bruyne</td>\n",
       "      <td>Manchester City</td>\n",
       "      <td>28</td>\n",
       "      <td>FW</td>\n",
       "      <td>25</td>\n",
       "      <td>2156</td>\n",
       "      <td>8</td>\n",
       "      <td>16</td>\n",
       "      <td>2.9</td>\n",
       "      <td>3.7</td>\n",
       "      <td>1.4</td>\n",
       "      <td>0.7</td>\n",
       "      <td>7.92</td>\n",
       "      <td>2</td>\n",
       "      <td>Rei das assistências</td>\n",
       "    </tr>\n",
       "    <tr>\n",
       "      <th>7</th>\n",
       "      <td>Cristiano Ronaldo</td>\n",
       "      <td>Ronaldo</td>\n",
       "      <td>Juventus</td>\n",
       "      <td>35</td>\n",
       "      <td>FW</td>\n",
       "      <td>22</td>\n",
       "      <td>1945</td>\n",
       "      <td>21</td>\n",
       "      <td>3</td>\n",
       "      <td>5.9</td>\n",
       "      <td>1.7</td>\n",
       "      <td>1.8</td>\n",
       "      <td>1.9</td>\n",
       "      <td>7.90</td>\n",
       "      <td>3</td>\n",
       "      <td>Fora de serie</td>\n",
       "    </tr>\n",
       "    <tr>\n",
       "      <th>8</th>\n",
       "      <td>Jadon Sancho</td>\n",
       "      <td>Sancho</td>\n",
       "      <td>Borussia Dortmund</td>\n",
       "      <td>20</td>\n",
       "      <td>FW</td>\n",
       "      <td>21</td>\n",
       "      <td>1807</td>\n",
       "      <td>14</td>\n",
       "      <td>15</td>\n",
       "      <td>2.0</td>\n",
       "      <td>2.3</td>\n",
       "      <td>2.6</td>\n",
       "      <td>0.6</td>\n",
       "      <td>7.90</td>\n",
       "      <td>2</td>\n",
       "      <td>Rei das assistências</td>\n",
       "    </tr>\n",
       "    <tr>\n",
       "      <th>9</th>\n",
       "      <td>Ángel Di María</td>\n",
       "      <td>Di María</td>\n",
       "      <td>Paris Saint-Germain</td>\n",
       "      <td>32</td>\n",
       "      <td>FW</td>\n",
       "      <td>23</td>\n",
       "      <td>2005</td>\n",
       "      <td>8</td>\n",
       "      <td>14</td>\n",
       "      <td>2.8</td>\n",
       "      <td>3.0</td>\n",
       "      <td>2.6</td>\n",
       "      <td>0.8</td>\n",
       "      <td>7.75</td>\n",
       "      <td>2</td>\n",
       "      <td>Rei das assistências</td>\n",
       "    </tr>\n",
       "    <tr>\n",
       "      <th>10</th>\n",
       "      <td>Dimitri Payet</td>\n",
       "      <td>Payet</td>\n",
       "      <td>Marseille</td>\n",
       "      <td>33</td>\n",
       "      <td>FW</td>\n",
       "      <td>22</td>\n",
       "      <td>1937</td>\n",
       "      <td>9</td>\n",
       "      <td>4</td>\n",
       "      <td>2.9</td>\n",
       "      <td>4.0</td>\n",
       "      <td>2.3</td>\n",
       "      <td>1.4</td>\n",
       "      <td>7.73</td>\n",
       "      <td>0</td>\n",
       "      <td>Colaborativo</td>\n",
       "    </tr>\n",
       "    <tr>\n",
       "      <th>11</th>\n",
       "      <td>Ciro Immobile</td>\n",
       "      <td>Immobile</td>\n",
       "      <td>Lazio</td>\n",
       "      <td>30</td>\n",
       "      <td>FW</td>\n",
       "      <td>25</td>\n",
       "      <td>2186</td>\n",
       "      <td>27</td>\n",
       "      <td>7</td>\n",
       "      <td>3.9</td>\n",
       "      <td>1.8</td>\n",
       "      <td>0.7</td>\n",
       "      <td>1.1</td>\n",
       "      <td>7.70</td>\n",
       "      <td>3</td>\n",
       "      <td>Fora de serie</td>\n",
       "    </tr>\n",
       "    <tr>\n",
       "      <th>12</th>\n",
       "      <td>Luis Alberto</td>\n",
       "      <td>Alberto</td>\n",
       "      <td>Lazio</td>\n",
       "      <td>27</td>\n",
       "      <td>FW</td>\n",
       "      <td>25</td>\n",
       "      <td>2152</td>\n",
       "      <td>4</td>\n",
       "      <td>12</td>\n",
       "      <td>2.8</td>\n",
       "      <td>3.0</td>\n",
       "      <td>2.1</td>\n",
       "      <td>1.0</td>\n",
       "      <td>7.69</td>\n",
       "      <td>4</td>\n",
       "      <td>Fora de serie</td>\n",
       "    </tr>\n",
       "    <tr>\n",
       "      <th>13</th>\n",
       "      <td>Adama Traoré</td>\n",
       "      <td>Traoré</td>\n",
       "      <td>Wolverhampton Wanderers</td>\n",
       "      <td>24</td>\n",
       "      <td>FW</td>\n",
       "      <td>22</td>\n",
       "      <td>2073</td>\n",
       "      <td>4</td>\n",
       "      <td>7</td>\n",
       "      <td>1.2</td>\n",
       "      <td>1.4</td>\n",
       "      <td>5.2</td>\n",
       "      <td>2.3</td>\n",
       "      <td>7.61</td>\n",
       "      <td>4</td>\n",
       "      <td>Fora de serie</td>\n",
       "    </tr>\n",
       "    <tr>\n",
       "      <th>14</th>\n",
       "      <td>Serge Gnabry</td>\n",
       "      <td>Gnabry</td>\n",
       "      <td>Bayern Munich</td>\n",
       "      <td>24</td>\n",
       "      <td>FW</td>\n",
       "      <td>19</td>\n",
       "      <td>1619</td>\n",
       "      <td>11</td>\n",
       "      <td>9</td>\n",
       "      <td>3.3</td>\n",
       "      <td>1.9</td>\n",
       "      <td>1.8</td>\n",
       "      <td>0.9</td>\n",
       "      <td>7.60</td>\n",
       "      <td>0</td>\n",
       "      <td>Colaborativo</td>\n",
       "    </tr>\n",
       "    <tr>\n",
       "      <th>15</th>\n",
       "      <td>Riyad Mahrez</td>\n",
       "      <td>Mahrez</td>\n",
       "      <td>Manchester City</td>\n",
       "      <td>29</td>\n",
       "      <td>M</td>\n",
       "      <td>15</td>\n",
       "      <td>1386</td>\n",
       "      <td>7</td>\n",
       "      <td>8</td>\n",
       "      <td>2.3</td>\n",
       "      <td>2.0</td>\n",
       "      <td>1.7</td>\n",
       "      <td>1.0</td>\n",
       "      <td>7.59</td>\n",
       "      <td>4</td>\n",
       "      <td>Fora de serie</td>\n",
       "    </tr>\n",
       "    <tr>\n",
       "      <th>16</th>\n",
       "      <td>Timo Werner</td>\n",
       "      <td>Werner</td>\n",
       "      <td>RasenBallsport Leipzig</td>\n",
       "      <td>24</td>\n",
       "      <td>FW</td>\n",
       "      <td>24</td>\n",
       "      <td>2052</td>\n",
       "      <td>21</td>\n",
       "      <td>7</td>\n",
       "      <td>3.8</td>\n",
       "      <td>1.4</td>\n",
       "      <td>1.8</td>\n",
       "      <td>0.9</td>\n",
       "      <td>7.58</td>\n",
       "      <td>3</td>\n",
       "      <td>Fora de serie</td>\n",
       "    </tr>\n",
       "    <tr>\n",
       "      <th>17</th>\n",
       "      <td>Duván Zapata</td>\n",
       "      <td>Zapata</td>\n",
       "      <td>Atalanta</td>\n",
       "      <td>29</td>\n",
       "      <td>FW</td>\n",
       "      <td>13</td>\n",
       "      <td>1064</td>\n",
       "      <td>11</td>\n",
       "      <td>5</td>\n",
       "      <td>3.5</td>\n",
       "      <td>1.3</td>\n",
       "      <td>0.7</td>\n",
       "      <td>1.4</td>\n",
       "      <td>7.58</td>\n",
       "      <td>0</td>\n",
       "      <td>Colaborativo</td>\n",
       "    </tr>\n",
       "    <tr>\n",
       "      <th>18</th>\n",
       "      <td>Luis Suárez</td>\n",
       "      <td>Suárez</td>\n",
       "      <td>Barcelona</td>\n",
       "      <td>33</td>\n",
       "      <td>FW</td>\n",
       "      <td>15</td>\n",
       "      <td>1279</td>\n",
       "      <td>11</td>\n",
       "      <td>7</td>\n",
       "      <td>3.1</td>\n",
       "      <td>1.1</td>\n",
       "      <td>1.1</td>\n",
       "      <td>0.8</td>\n",
       "      <td>7.56</td>\n",
       "      <td>0</td>\n",
       "      <td>Colaborativo</td>\n",
       "    </tr>\n",
       "    <tr>\n",
       "      <th>19</th>\n",
       "      <td>Filip Kostic</td>\n",
       "      <td>Kostic</td>\n",
       "      <td>Eintracht Frankfurt</td>\n",
       "      <td>27</td>\n",
       "      <td>FW</td>\n",
       "      <td>23</td>\n",
       "      <td>2059</td>\n",
       "      <td>4</td>\n",
       "      <td>8</td>\n",
       "      <td>2.7</td>\n",
       "      <td>2.6</td>\n",
       "      <td>2.9</td>\n",
       "      <td>1.0</td>\n",
       "      <td>7.55</td>\n",
       "      <td>4</td>\n",
       "      <td>Fora de serie</td>\n",
       "    </tr>\n",
       "    <tr>\n",
       "      <th>20</th>\n",
       "      <td>Thiago</td>\n",
       "      <td>Thiago</td>\n",
       "      <td>Bayern Munich</td>\n",
       "      <td>29</td>\n",
       "      <td>M</td>\n",
       "      <td>19</td>\n",
       "      <td>1666</td>\n",
       "      <td>3</td>\n",
       "      <td>0</td>\n",
       "      <td>0.8</td>\n",
       "      <td>0.9</td>\n",
       "      <td>3.0</td>\n",
       "      <td>0.5</td>\n",
       "      <td>7.54</td>\n",
       "      <td>1</td>\n",
       "      <td>Discreto</td>\n",
       "    </tr>\n",
       "    <tr>\n",
       "      <th>21</th>\n",
       "      <td>Casemiro</td>\n",
       "      <td>Casemiro</td>\n",
       "      <td>Real Madrid</td>\n",
       "      <td>28</td>\n",
       "      <td>M</td>\n",
       "      <td>25</td>\n",
       "      <td>2220</td>\n",
       "      <td>3</td>\n",
       "      <td>2</td>\n",
       "      <td>1.4</td>\n",
       "      <td>0.4</td>\n",
       "      <td>0.8</td>\n",
       "      <td>1.6</td>\n",
       "      <td>7.54</td>\n",
       "      <td>1</td>\n",
       "      <td>Discreto</td>\n",
       "    </tr>\n",
       "    <tr>\n",
       "      <th>22</th>\n",
       "      <td>Alphonso Davies</td>\n",
       "      <td>Davies</td>\n",
       "      <td>Bayern Munich</td>\n",
       "      <td>19</td>\n",
       "      <td>M</td>\n",
       "      <td>17</td>\n",
       "      <td>1592</td>\n",
       "      <td>1</td>\n",
       "      <td>4</td>\n",
       "      <td>0.5</td>\n",
       "      <td>1.3</td>\n",
       "      <td>3.0</td>\n",
       "      <td>1.1</td>\n",
       "      <td>7.54</td>\n",
       "      <td>1</td>\n",
       "      <td>Discreto</td>\n",
       "    </tr>\n",
       "    <tr>\n",
       "      <th>23</th>\n",
       "      <td>Christopher Nkunku</td>\n",
       "      <td>Nkunku</td>\n",
       "      <td>RasenBallsport Leipzig</td>\n",
       "      <td>22</td>\n",
       "      <td>FW</td>\n",
       "      <td>15</td>\n",
       "      <td>1451</td>\n",
       "      <td>4</td>\n",
       "      <td>12</td>\n",
       "      <td>1.7</td>\n",
       "      <td>2.8</td>\n",
       "      <td>1.8</td>\n",
       "      <td>1.3</td>\n",
       "      <td>7.52</td>\n",
       "      <td>4</td>\n",
       "      <td>Fora de serie</td>\n",
       "    </tr>\n",
       "    <tr>\n",
       "      <th>24</th>\n",
       "      <td>Alejandro Gómez</td>\n",
       "      <td>Gómez</td>\n",
       "      <td>Atalanta</td>\n",
       "      <td>32</td>\n",
       "      <td>FW</td>\n",
       "      <td>23</td>\n",
       "      <td>1905</td>\n",
       "      <td>6</td>\n",
       "      <td>10</td>\n",
       "      <td>2.9</td>\n",
       "      <td>2.7</td>\n",
       "      <td>1.8</td>\n",
       "      <td>2.2</td>\n",
       "      <td>7.52</td>\n",
       "      <td>4</td>\n",
       "      <td>Fora de serie</td>\n",
       "    </tr>\n",
       "    <tr>\n",
       "      <th>25</th>\n",
       "      <td>Edin Dzeko</td>\n",
       "      <td>Dzeko</td>\n",
       "      <td>Roma</td>\n",
       "      <td>34</td>\n",
       "      <td>FW</td>\n",
       "      <td>23</td>\n",
       "      <td>2154</td>\n",
       "      <td>12</td>\n",
       "      <td>4</td>\n",
       "      <td>3.7</td>\n",
       "      <td>1.4</td>\n",
       "      <td>1.2</td>\n",
       "      <td>1.3</td>\n",
       "      <td>7.50</td>\n",
       "      <td>0</td>\n",
       "      <td>Colaborativo</td>\n",
       "    </tr>\n",
       "    <tr>\n",
       "      <th>26</th>\n",
       "      <td>Marco Reus</td>\n",
       "      <td>Reus</td>\n",
       "      <td>Borussia Dortmund</td>\n",
       "      <td>30</td>\n",
       "      <td>FW</td>\n",
       "      <td>18</td>\n",
       "      <td>1502</td>\n",
       "      <td>11</td>\n",
       "      <td>5</td>\n",
       "      <td>2.5</td>\n",
       "      <td>1.2</td>\n",
       "      <td>1.4</td>\n",
       "      <td>0.9</td>\n",
       "      <td>7.50</td>\n",
       "      <td>0</td>\n",
       "      <td>Colaborativo</td>\n",
       "    </tr>\n",
       "    <tr>\n",
       "      <th>27</th>\n",
       "      <td>Ricardo Pereira</td>\n",
       "      <td>Pereira</td>\n",
       "      <td>Leicester</td>\n",
       "      <td>26</td>\n",
       "      <td>M</td>\n",
       "      <td>28</td>\n",
       "      <td>2520</td>\n",
       "      <td>3</td>\n",
       "      <td>2</td>\n",
       "      <td>0.6</td>\n",
       "      <td>1.0</td>\n",
       "      <td>2.1</td>\n",
       "      <td>1.3</td>\n",
       "      <td>7.50</td>\n",
       "      <td>1</td>\n",
       "      <td>Discreto</td>\n",
       "    </tr>\n",
       "    <tr>\n",
       "      <th>28</th>\n",
       "      <td>Sadio Mané</td>\n",
       "      <td>Mané</td>\n",
       "      <td>Liverpool</td>\n",
       "      <td>28</td>\n",
       "      <td>FW</td>\n",
       "      <td>24</td>\n",
       "      <td>2085</td>\n",
       "      <td>14</td>\n",
       "      <td>7</td>\n",
       "      <td>2.3</td>\n",
       "      <td>1.6</td>\n",
       "      <td>1.9</td>\n",
       "      <td>1.3</td>\n",
       "      <td>7.50</td>\n",
       "      <td>0</td>\n",
       "      <td>Colaborativo</td>\n",
       "    </tr>\n",
       "    <tr>\n",
       "      <th>29</th>\n",
       "      <td>Domenico Berardi</td>\n",
       "      <td>Berardi</td>\n",
       "      <td>Sassuolo</td>\n",
       "      <td>25</td>\n",
       "      <td>FW</td>\n",
       "      <td>19</td>\n",
       "      <td>1614</td>\n",
       "      <td>9</td>\n",
       "      <td>5</td>\n",
       "      <td>4.1</td>\n",
       "      <td>1.7</td>\n",
       "      <td>1.4</td>\n",
       "      <td>2.4</td>\n",
       "      <td>7.49</td>\n",
       "      <td>0</td>\n",
       "      <td>Colaborativo</td>\n",
       "    </tr>\n",
       "    <tr>\n",
       "      <th>30</th>\n",
       "      <td>Mohamed Salah</td>\n",
       "      <td>Salah</td>\n",
       "      <td>Liverpool</td>\n",
       "      <td>27</td>\n",
       "      <td>FW</td>\n",
       "      <td>26</td>\n",
       "      <td>2250</td>\n",
       "      <td>16</td>\n",
       "      <td>6</td>\n",
       "      <td>3.8</td>\n",
       "      <td>1.8</td>\n",
       "      <td>1.7</td>\n",
       "      <td>0.6</td>\n",
       "      <td>7.45</td>\n",
       "      <td>0</td>\n",
       "      <td>Colaborativo</td>\n",
       "    </tr>\n",
       "    <tr>\n",
       "      <th>31</th>\n",
       "      <td>Téji Savanier</td>\n",
       "      <td>Savanier</td>\n",
       "      <td>Montpellier</td>\n",
       "      <td>28</td>\n",
       "      <td>M</td>\n",
       "      <td>18</td>\n",
       "      <td>1532</td>\n",
       "      <td>6</td>\n",
       "      <td>2</td>\n",
       "      <td>1.6</td>\n",
       "      <td>1.5</td>\n",
       "      <td>1.7</td>\n",
       "      <td>2.9</td>\n",
       "      <td>7.45</td>\n",
       "      <td>1</td>\n",
       "      <td>Discreto</td>\n",
       "    </tr>\n",
       "    <tr>\n",
       "      <th>32</th>\n",
       "      <td>Romelu Lukaku</td>\n",
       "      <td>Lukaku</td>\n",
       "      <td>Inter</td>\n",
       "      <td>26</td>\n",
       "      <td>FW</td>\n",
       "      <td>24</td>\n",
       "      <td>2143</td>\n",
       "      <td>17</td>\n",
       "      <td>2</td>\n",
       "      <td>2.9</td>\n",
       "      <td>1.4</td>\n",
       "      <td>0.6</td>\n",
       "      <td>0.4</td>\n",
       "      <td>7.43</td>\n",
       "      <td>0</td>\n",
       "      <td>Colaborativo</td>\n",
       "    </tr>\n",
       "    <tr>\n",
       "      <th>33</th>\n",
       "      <td>Suat Serdar</td>\n",
       "      <td>Serdar</td>\n",
       "      <td>Schalke 04</td>\n",
       "      <td>23</td>\n",
       "      <td>M</td>\n",
       "      <td>17</td>\n",
       "      <td>1475</td>\n",
       "      <td>7</td>\n",
       "      <td>0</td>\n",
       "      <td>1.8</td>\n",
       "      <td>0.6</td>\n",
       "      <td>2.7</td>\n",
       "      <td>1.7</td>\n",
       "      <td>7.41</td>\n",
       "      <td>1</td>\n",
       "      <td>Discreto</td>\n",
       "    </tr>\n",
       "    <tr>\n",
       "      <th>34</th>\n",
       "      <td>Nabil Fekir</td>\n",
       "      <td>Fekir</td>\n",
       "      <td>Real Betis</td>\n",
       "      <td>26</td>\n",
       "      <td>FW</td>\n",
       "      <td>21</td>\n",
       "      <td>1822</td>\n",
       "      <td>7</td>\n",
       "      <td>3</td>\n",
       "      <td>3.3</td>\n",
       "      <td>1.1</td>\n",
       "      <td>3.3</td>\n",
       "      <td>3.8</td>\n",
       "      <td>7.39</td>\n",
       "      <td>1</td>\n",
       "      <td>Discreto</td>\n",
       "    </tr>\n",
       "    <tr>\n",
       "      <th>35</th>\n",
       "      <td>Karim Benzema</td>\n",
       "      <td>Benzema</td>\n",
       "      <td>Real Madrid</td>\n",
       "      <td>32</td>\n",
       "      <td>FW</td>\n",
       "      <td>25</td>\n",
       "      <td>2221</td>\n",
       "      <td>14</td>\n",
       "      <td>6</td>\n",
       "      <td>3.7</td>\n",
       "      <td>1.7</td>\n",
       "      <td>1.0</td>\n",
       "      <td>0.4</td>\n",
       "      <td>7.39</td>\n",
       "      <td>0</td>\n",
       "      <td>Colaborativo</td>\n",
       "    </tr>\n",
       "    <tr>\n",
       "      <th>36</th>\n",
       "      <td>Paulo Dybala</td>\n",
       "      <td>Dybala</td>\n",
       "      <td>Juventus</td>\n",
       "      <td>26</td>\n",
       "      <td>FW</td>\n",
       "      <td>17</td>\n",
       "      <td>1525</td>\n",
       "      <td>7</td>\n",
       "      <td>4</td>\n",
       "      <td>3.1</td>\n",
       "      <td>2.0</td>\n",
       "      <td>1.9</td>\n",
       "      <td>1.5</td>\n",
       "      <td>7.37</td>\n",
       "      <td>1</td>\n",
       "      <td>Discreto</td>\n",
       "    </tr>\n",
       "    <tr>\n",
       "      <th>37</th>\n",
       "      <td>Raphael Guerreiro</td>\n",
       "      <td>Guerreiro</td>\n",
       "      <td>Borussia Dortmund</td>\n",
       "      <td>26</td>\n",
       "      <td>M</td>\n",
       "      <td>17</td>\n",
       "      <td>1602</td>\n",
       "      <td>5</td>\n",
       "      <td>2</td>\n",
       "      <td>1.4</td>\n",
       "      <td>1.2</td>\n",
       "      <td>1.5</td>\n",
       "      <td>0.6</td>\n",
       "      <td>7.36</td>\n",
       "      <td>1</td>\n",
       "      <td>Discreto</td>\n",
       "    </tr>\n",
       "    <tr>\n",
       "      <th>38</th>\n",
       "      <td>Wilfred Ndidi</td>\n",
       "      <td>Ndidi</td>\n",
       "      <td>Leicester</td>\n",
       "      <td>23</td>\n",
       "      <td>M</td>\n",
       "      <td>20</td>\n",
       "      <td>1892</td>\n",
       "      <td>2</td>\n",
       "      <td>1</td>\n",
       "      <td>0.8</td>\n",
       "      <td>0.5</td>\n",
       "      <td>0.7</td>\n",
       "      <td>0.7</td>\n",
       "      <td>7.36</td>\n",
       "      <td>1</td>\n",
       "      <td>Discreto</td>\n",
       "    </tr>\n",
       "    <tr>\n",
       "      <th>39</th>\n",
       "      <td>Achraf Hakimi</td>\n",
       "      <td>Hakimi</td>\n",
       "      <td>Borussia Dortmund</td>\n",
       "      <td>21</td>\n",
       "      <td>M</td>\n",
       "      <td>22</td>\n",
       "      <td>2045</td>\n",
       "      <td>3</td>\n",
       "      <td>10</td>\n",
       "      <td>1.0</td>\n",
       "      <td>1.2</td>\n",
       "      <td>2.4</td>\n",
       "      <td>1.5</td>\n",
       "      <td>7.36</td>\n",
       "      <td>4</td>\n",
       "      <td>Fora de serie</td>\n",
       "    </tr>\n",
       "    <tr>\n",
       "      <th>40</th>\n",
       "      <td>Mikel Merino</td>\n",
       "      <td>Merino</td>\n",
       "      <td>Real Sociedad</td>\n",
       "      <td>23</td>\n",
       "      <td>M</td>\n",
       "      <td>25</td>\n",
       "      <td>2252</td>\n",
       "      <td>3</td>\n",
       "      <td>1</td>\n",
       "      <td>1.1</td>\n",
       "      <td>1.0</td>\n",
       "      <td>1.0</td>\n",
       "      <td>2.3</td>\n",
       "      <td>7.36</td>\n",
       "      <td>1</td>\n",
       "      <td>Discreto</td>\n",
       "    </tr>\n",
       "    <tr>\n",
       "      <th>41</th>\n",
       "      <td>Wissam Ben Yedder</td>\n",
       "      <td>Ben Yedder</td>\n",
       "      <td>Monaco</td>\n",
       "      <td>29</td>\n",
       "      <td>FW</td>\n",
       "      <td>25</td>\n",
       "      <td>2173</td>\n",
       "      <td>18</td>\n",
       "      <td>4</td>\n",
       "      <td>2.5</td>\n",
       "      <td>1.7</td>\n",
       "      <td>1.3</td>\n",
       "      <td>0.7</td>\n",
       "      <td>7.35</td>\n",
       "      <td>3</td>\n",
       "      <td>Fora de serie</td>\n",
       "    </tr>\n",
       "    <tr>\n",
       "      <th>42</th>\n",
       "      <td>James Maddison</td>\n",
       "      <td>Maddison</td>\n",
       "      <td>Leicester</td>\n",
       "      <td>23</td>\n",
       "      <td>M</td>\n",
       "      <td>27</td>\n",
       "      <td>2404</td>\n",
       "      <td>6</td>\n",
       "      <td>3</td>\n",
       "      <td>2.2</td>\n",
       "      <td>2.7</td>\n",
       "      <td>1.6</td>\n",
       "      <td>2.9</td>\n",
       "      <td>7.34</td>\n",
       "      <td>1</td>\n",
       "      <td>Discreto</td>\n",
       "    </tr>\n",
       "    <tr>\n",
       "      <th>43</th>\n",
       "      <td>Joshua Kimmich</td>\n",
       "      <td>kimmich</td>\n",
       "      <td>Bayern Munich</td>\n",
       "      <td>25</td>\n",
       "      <td>M</td>\n",
       "      <td>24</td>\n",
       "      <td>2097</td>\n",
       "      <td>2</td>\n",
       "      <td>4</td>\n",
       "      <td>0.7</td>\n",
       "      <td>2.3</td>\n",
       "      <td>0.8</td>\n",
       "      <td>1.4</td>\n",
       "      <td>7.34</td>\n",
       "      <td>1</td>\n",
       "      <td>Discreto</td>\n",
       "    </tr>\n",
       "    <tr>\n",
       "      <th>44</th>\n",
       "      <td>Marcus Rashford</td>\n",
       "      <td>Rashford</td>\n",
       "      <td>Manchester United</td>\n",
       "      <td>22</td>\n",
       "      <td>FW</td>\n",
       "      <td>22</td>\n",
       "      <td>1882</td>\n",
       "      <td>14</td>\n",
       "      <td>4</td>\n",
       "      <td>3.4</td>\n",
       "      <td>1.1</td>\n",
       "      <td>2.0</td>\n",
       "      <td>1.3</td>\n",
       "      <td>7.34</td>\n",
       "      <td>0</td>\n",
       "      <td>Colaborativo</td>\n",
       "    </tr>\n",
       "    <tr>\n",
       "      <th>45</th>\n",
       "      <td>Idrissa Gueye</td>\n",
       "      <td>Gueye</td>\n",
       "      <td>Paris Saint-Germain</td>\n",
       "      <td>30</td>\n",
       "      <td>M</td>\n",
       "      <td>19</td>\n",
       "      <td>1655</td>\n",
       "      <td>1</td>\n",
       "      <td>2</td>\n",
       "      <td>0.6</td>\n",
       "      <td>1.2</td>\n",
       "      <td>1.1</td>\n",
       "      <td>1.1</td>\n",
       "      <td>7.33</td>\n",
       "      <td>1</td>\n",
       "      <td>Discreto</td>\n",
       "    </tr>\n",
       "    <tr>\n",
       "      <th>46</th>\n",
       "      <td>Thomas Müller</td>\n",
       "      <td>Müller</td>\n",
       "      <td>Bayern Munich</td>\n",
       "      <td>30</td>\n",
       "      <td>FW</td>\n",
       "      <td>18</td>\n",
       "      <td>1558</td>\n",
       "      <td>6</td>\n",
       "      <td>16</td>\n",
       "      <td>1.5</td>\n",
       "      <td>2.4</td>\n",
       "      <td>0.3</td>\n",
       "      <td>0.8</td>\n",
       "      <td>7.33</td>\n",
       "      <td>2</td>\n",
       "      <td>Rei das assistências</td>\n",
       "    </tr>\n",
       "    <tr>\n",
       "      <th>47</th>\n",
       "      <td>Jack Grealish</td>\n",
       "      <td>Grealish</td>\n",
       "      <td>Aston Villa</td>\n",
       "      <td>24</td>\n",
       "      <td>M</td>\n",
       "      <td>26</td>\n",
       "      <td>2334</td>\n",
       "      <td>7</td>\n",
       "      <td>6</td>\n",
       "      <td>2.1</td>\n",
       "      <td>2.7</td>\n",
       "      <td>2.2</td>\n",
       "      <td>4.9</td>\n",
       "      <td>7.33</td>\n",
       "      <td>4</td>\n",
       "      <td>Fora de serie</td>\n",
       "    </tr>\n",
       "    <tr>\n",
       "      <th>48</th>\n",
       "      <td>Marcus Thuram</td>\n",
       "      <td>Thuram</td>\n",
       "      <td>Borussia M.Gladbach</td>\n",
       "      <td>22</td>\n",
       "      <td>FW</td>\n",
       "      <td>22</td>\n",
       "      <td>1801</td>\n",
       "      <td>6</td>\n",
       "      <td>8</td>\n",
       "      <td>1.8</td>\n",
       "      <td>1.0</td>\n",
       "      <td>2.3</td>\n",
       "      <td>2.0</td>\n",
       "      <td>7.33</td>\n",
       "      <td>4</td>\n",
       "      <td>Fora de serie</td>\n",
       "    </tr>\n",
       "    <tr>\n",
       "      <th>49</th>\n",
       "      <td>Sergej Milinkovic-Savic</td>\n",
       "      <td>Milinkovic-Savic</td>\n",
       "      <td>Lazio</td>\n",
       "      <td>25</td>\n",
       "      <td>M</td>\n",
       "      <td>24</td>\n",
       "      <td>2051</td>\n",
       "      <td>4</td>\n",
       "      <td>4</td>\n",
       "      <td>2.0</td>\n",
       "      <td>1.2</td>\n",
       "      <td>1.2</td>\n",
       "      <td>1.0</td>\n",
       "      <td>7.33</td>\n",
       "      <td>1</td>\n",
       "      <td>Discreto</td>\n",
       "    </tr>\n",
       "    <tr>\n",
       "      <th>50</th>\n",
       "      <td>Gerard Moreno</td>\n",
       "      <td>Moreno</td>\n",
       "      <td>Villarreal</td>\n",
       "      <td>28</td>\n",
       "      <td>FW</td>\n",
       "      <td>24</td>\n",
       "      <td>2063</td>\n",
       "      <td>11</td>\n",
       "      <td>3</td>\n",
       "      <td>2.8</td>\n",
       "      <td>1.6</td>\n",
       "      <td>1.9</td>\n",
       "      <td>1.4</td>\n",
       "      <td>7.32</td>\n",
       "      <td>0</td>\n",
       "      <td>Colaborativo</td>\n",
       "    </tr>\n",
       "  </tbody>\n",
       "</table>\n",
       "</div>"
      ],
      "text/plain": [
       "                         Jogador              Nome                    Clube  \\\n",
       "Ranking                                                                       \n",
       "1                   Lionel Messi             Messi                Barcelona   \n",
       "2                         Neymar            Neymar      Paris Saint-Germain   \n",
       "3             Robert Lewandowski       Lewandowski            Bayern Munich   \n",
       "4                  Kylian Mbappé            Mbappé      Paris Saint-Germain   \n",
       "5                   Josip Ilicic            Ilicic                 Atalanta   \n",
       "6                Kevin De Bruyne         De Bruyne          Manchester City   \n",
       "7              Cristiano Ronaldo           Ronaldo                 Juventus   \n",
       "8                   Jadon Sancho            Sancho        Borussia Dortmund   \n",
       "9                 Ángel Di María          Di María      Paris Saint-Germain   \n",
       "10                 Dimitri Payet             Payet                Marseille   \n",
       "11                 Ciro Immobile          Immobile                    Lazio   \n",
       "12                  Luis Alberto           Alberto                    Lazio   \n",
       "13                  Adama Traoré            Traoré  Wolverhampton Wanderers   \n",
       "14                  Serge Gnabry            Gnabry            Bayern Munich   \n",
       "15                  Riyad Mahrez            Mahrez          Manchester City   \n",
       "16                   Timo Werner            Werner   RasenBallsport Leipzig   \n",
       "17                  Duván Zapata            Zapata                 Atalanta   \n",
       "18                   Luis Suárez            Suárez                Barcelona   \n",
       "19                  Filip Kostic            Kostic      Eintracht Frankfurt   \n",
       "20                        Thiago            Thiago            Bayern Munich   \n",
       "21                      Casemiro          Casemiro              Real Madrid   \n",
       "22               Alphonso Davies            Davies            Bayern Munich   \n",
       "23            Christopher Nkunku            Nkunku   RasenBallsport Leipzig   \n",
       "24               Alejandro Gómez             Gómez                 Atalanta   \n",
       "25                    Edin Dzeko             Dzeko                     Roma   \n",
       "26                    Marco Reus              Reus        Borussia Dortmund   \n",
       "27               Ricardo Pereira           Pereira                Leicester   \n",
       "28                    Sadio Mané              Mané                Liverpool   \n",
       "29              Domenico Berardi           Berardi                 Sassuolo   \n",
       "30                 Mohamed Salah             Salah                Liverpool   \n",
       "31                 Téji Savanier          Savanier              Montpellier   \n",
       "32                 Romelu Lukaku            Lukaku                    Inter   \n",
       "33                   Suat Serdar            Serdar               Schalke 04   \n",
       "34                   Nabil Fekir             Fekir               Real Betis   \n",
       "35                 Karim Benzema           Benzema              Real Madrid   \n",
       "36                  Paulo Dybala            Dybala                 Juventus   \n",
       "37             Raphael Guerreiro         Guerreiro        Borussia Dortmund   \n",
       "38                 Wilfred Ndidi             Ndidi                Leicester   \n",
       "39                 Achraf Hakimi            Hakimi        Borussia Dortmund   \n",
       "40                  Mikel Merino            Merino            Real Sociedad   \n",
       "41             Wissam Ben Yedder        Ben Yedder                   Monaco   \n",
       "42                James Maddison          Maddison                Leicester   \n",
       "43                Joshua Kimmich           kimmich            Bayern Munich   \n",
       "44               Marcus Rashford          Rashford        Manchester United   \n",
       "45                 Idrissa Gueye             Gueye      Paris Saint-Germain   \n",
       "46                 Thomas Müller            Müller            Bayern Munich   \n",
       "47                 Jack Grealish          Grealish              Aston Villa   \n",
       "48                 Marcus Thuram            Thuram      Borussia M.Gladbach   \n",
       "49       Sergej Milinkovic-Savic  Milinkovic-Savic                    Lazio   \n",
       "50                 Gerard Moreno            Moreno               Villarreal   \n",
       "\n",
       "        Idade Posição  Partidas  Minutos  Gols  Assistências  Chutes a gol  \\\n",
       "Ranking                                                                      \n",
       "1          32      FW        21     1891    19            12           4.8   \n",
       "2          28      FW        15     1322    13             6           4.7   \n",
       "3          31      FW        23     2042    25             3           4.7   \n",
       "4          21      FW        17     1516    18             5           4.4   \n",
       "5          32      FW        19     1492    15             5           3.6   \n",
       "6          28      FW        25     2156     8            16           2.9   \n",
       "7          35      FW        22     1945    21             3           5.9   \n",
       "8          20      FW        21     1807    14            15           2.0   \n",
       "9          32      FW        23     2005     8            14           2.8   \n",
       "10         33      FW        22     1937     9             4           2.9   \n",
       "11         30      FW        25     2186    27             7           3.9   \n",
       "12         27      FW        25     2152     4            12           2.8   \n",
       "13         24      FW        22     2073     4             7           1.2   \n",
       "14         24      FW        19     1619    11             9           3.3   \n",
       "15         29       M        15     1386     7             8           2.3   \n",
       "16         24      FW        24     2052    21             7           3.8   \n",
       "17         29      FW        13     1064    11             5           3.5   \n",
       "18         33      FW        15     1279    11             7           3.1   \n",
       "19         27      FW        23     2059     4             8           2.7   \n",
       "20         29       M        19     1666     3             0           0.8   \n",
       "21         28       M        25     2220     3             2           1.4   \n",
       "22         19       M        17     1592     1             4           0.5   \n",
       "23         22      FW        15     1451     4            12           1.7   \n",
       "24         32      FW        23     1905     6            10           2.9   \n",
       "25         34      FW        23     2154    12             4           3.7   \n",
       "26         30      FW        18     1502    11             5           2.5   \n",
       "27         26       M        28     2520     3             2           0.6   \n",
       "28         28      FW        24     2085    14             7           2.3   \n",
       "29         25      FW        19     1614     9             5           4.1   \n",
       "30         27      FW        26     2250    16             6           3.8   \n",
       "31         28       M        18     1532     6             2           1.6   \n",
       "32         26      FW        24     2143    17             2           2.9   \n",
       "33         23       M        17     1475     7             0           1.8   \n",
       "34         26      FW        21     1822     7             3           3.3   \n",
       "35         32      FW        25     2221    14             6           3.7   \n",
       "36         26      FW        17     1525     7             4           3.1   \n",
       "37         26       M        17     1602     5             2           1.4   \n",
       "38         23       M        20     1892     2             1           0.8   \n",
       "39         21       M        22     2045     3            10           1.0   \n",
       "40         23       M        25     2252     3             1           1.1   \n",
       "41         29      FW        25     2173    18             4           2.5   \n",
       "42         23       M        27     2404     6             3           2.2   \n",
       "43         25       M        24     2097     2             4           0.7   \n",
       "44         22      FW        22     1882    14             4           3.4   \n",
       "45         30       M        19     1655     1             2           0.6   \n",
       "46         30      FW        18     1558     6            16           1.5   \n",
       "47         24       M        26     2334     7             6           2.1   \n",
       "48         22      FW        22     1801     6             8           1.8   \n",
       "49         25       M        24     2051     4             4           2.0   \n",
       "50         28      FW        24     2063    11             3           2.8   \n",
       "\n",
       "         Passes importantes  Dribles por partida  Faltas sofridas  Nota  \\\n",
       "Ranking                                                                   \n",
       "1                       2.5                  5.4              1.7  8.61   \n",
       "2                       2.6                  6.0              4.1  8.58   \n",
       "3                       1.2                  2.1              1.5  8.16   \n",
       "4                       2.0                  2.8              1.1  8.14   \n",
       "5                       2.5                  2.6              2.4  7.95   \n",
       "6                       3.7                  1.4              0.7  7.92   \n",
       "7                       1.7                  1.8              1.9  7.90   \n",
       "8                       2.3                  2.6              0.6  7.90   \n",
       "9                       3.0                  2.6              0.8  7.75   \n",
       "10                      4.0                  2.3              1.4  7.73   \n",
       "11                      1.8                  0.7              1.1  7.70   \n",
       "12                      3.0                  2.1              1.0  7.69   \n",
       "13                      1.4                  5.2              2.3  7.61   \n",
       "14                      1.9                  1.8              0.9  7.60   \n",
       "15                      2.0                  1.7              1.0  7.59   \n",
       "16                      1.4                  1.8              0.9  7.58   \n",
       "17                      1.3                  0.7              1.4  7.58   \n",
       "18                      1.1                  1.1              0.8  7.56   \n",
       "19                      2.6                  2.9              1.0  7.55   \n",
       "20                      0.9                  3.0              0.5  7.54   \n",
       "21                      0.4                  0.8              1.6  7.54   \n",
       "22                      1.3                  3.0              1.1  7.54   \n",
       "23                      2.8                  1.8              1.3  7.52   \n",
       "24                      2.7                  1.8              2.2  7.52   \n",
       "25                      1.4                  1.2              1.3  7.50   \n",
       "26                      1.2                  1.4              0.9  7.50   \n",
       "27                      1.0                  2.1              1.3  7.50   \n",
       "28                      1.6                  1.9              1.3  7.50   \n",
       "29                      1.7                  1.4              2.4  7.49   \n",
       "30                      1.8                  1.7              0.6  7.45   \n",
       "31                      1.5                  1.7              2.9  7.45   \n",
       "32                      1.4                  0.6              0.4  7.43   \n",
       "33                      0.6                  2.7              1.7  7.41   \n",
       "34                      1.1                  3.3              3.8  7.39   \n",
       "35                      1.7                  1.0              0.4  7.39   \n",
       "36                      2.0                  1.9              1.5  7.37   \n",
       "37                      1.2                  1.5              0.6  7.36   \n",
       "38                      0.5                  0.7              0.7  7.36   \n",
       "39                      1.2                  2.4              1.5  7.36   \n",
       "40                      1.0                  1.0              2.3  7.36   \n",
       "41                      1.7                  1.3              0.7  7.35   \n",
       "42                      2.7                  1.6              2.9  7.34   \n",
       "43                      2.3                  0.8              1.4  7.34   \n",
       "44                      1.1                  2.0              1.3  7.34   \n",
       "45                      1.2                  1.1              1.1  7.33   \n",
       "46                      2.4                  0.3              0.8  7.33   \n",
       "47                      2.7                  2.2              4.9  7.33   \n",
       "48                      1.0                  2.3              2.0  7.33   \n",
       "49                      1.2                  1.2              1.0  7.33   \n",
       "50                      1.6                  1.9              1.4  7.32   \n",
       "\n",
       "         label             Categoria  \n",
       "Ranking                               \n",
       "1            3         Fora de serie  \n",
       "2            0          Colaborativo  \n",
       "3            3         Fora de serie  \n",
       "4            3         Fora de serie  \n",
       "5            0          Colaborativo  \n",
       "6            2  Rei das assistências  \n",
       "7            3         Fora de serie  \n",
       "8            2  Rei das assistências  \n",
       "9            2  Rei das assistências  \n",
       "10           0          Colaborativo  \n",
       "11           3         Fora de serie  \n",
       "12           4         Fora de serie  \n",
       "13           4         Fora de serie  \n",
       "14           0          Colaborativo  \n",
       "15           4         Fora de serie  \n",
       "16           3         Fora de serie  \n",
       "17           0          Colaborativo  \n",
       "18           0          Colaborativo  \n",
       "19           4         Fora de serie  \n",
       "20           1              Discreto  \n",
       "21           1              Discreto  \n",
       "22           1              Discreto  \n",
       "23           4         Fora de serie  \n",
       "24           4         Fora de serie  \n",
       "25           0          Colaborativo  \n",
       "26           0          Colaborativo  \n",
       "27           1              Discreto  \n",
       "28           0          Colaborativo  \n",
       "29           0          Colaborativo  \n",
       "30           0          Colaborativo  \n",
       "31           1              Discreto  \n",
       "32           0          Colaborativo  \n",
       "33           1              Discreto  \n",
       "34           1              Discreto  \n",
       "35           0          Colaborativo  \n",
       "36           1              Discreto  \n",
       "37           1              Discreto  \n",
       "38           1              Discreto  \n",
       "39           4         Fora de serie  \n",
       "40           1              Discreto  \n",
       "41           3         Fora de serie  \n",
       "42           1              Discreto  \n",
       "43           1              Discreto  \n",
       "44           0          Colaborativo  \n",
       "45           1              Discreto  \n",
       "46           2  Rei das assistências  \n",
       "47           4         Fora de serie  \n",
       "48           4         Fora de serie  \n",
       "49           1              Discreto  \n",
       "50           0          Colaborativo  "
      ]
     },
     "execution_count": 41,
     "metadata": {},
     "output_type": "execute_result"
    }
   ],
   "source": [
    "df"
   ]
  },
  {
   "cell_type": "code",
   "execution_count": 45,
   "metadata": {},
   "outputs": [
    {
     "data": {
      "application/vnd.plotly.v1+json": {
       "config": {
        "plotlyServerURL": "https://plot.ly"
       },
       "data": [
        {
         "hovertemplate": "Categoria=Fora de série<br>Assistências=%{x}<br>Gols=%{y}<br>Nome=%{text}<extra></extra>",
         "legendgroup": "Fora de série",
         "marker": {
          "color": "#636efa",
          "symbol": "circle"
         },
         "mode": "markers+text",
         "name": "Fora de série",
         "orientation": "v",
         "showlegend": true,
         "text": [
          "Messi",
          " Lewandowski",
          "Mbappé",
          "Ronaldo",
          "Immobile",
          "Werner",
          "Ben Yedder"
         ],
         "textposition": "top center",
         "type": "scatter",
         "x": [
          12,
          3,
          5,
          3,
          7,
          7,
          4
         ],
         "xaxis": "x",
         "y": [
          19,
          25,
          18,
          21,
          27,
          21,
          18
         ],
         "yaxis": "y"
        },
        {
         "hovertemplate": "Categoria=Suporte nos gols<br>Assistências=%{x}<br>Gols=%{y}<br>Nome=%{text}<extra></extra>",
         "legendgroup": "Suporte nos gols",
         "marker": {
          "color": "#EF553B",
          "symbol": "circle"
         },
         "mode": "markers+text",
         "name": "Suporte nos gols",
         "orientation": "v",
         "showlegend": true,
         "text": [
          "Neymar",
          " Ilicic",
          "Payet",
          "Gnabry",
          "Zapata",
          "Suárez",
          "Dzeko",
          "Reus",
          "Mané",
          "Berardi",
          "Salah",
          "Lukaku",
          "Benzema",
          "Rashford",
          " Moreno"
         ],
         "textposition": "top center",
         "type": "scatter",
         "x": [
          6,
          5,
          4,
          9,
          5,
          7,
          4,
          5,
          7,
          5,
          6,
          2,
          6,
          4,
          3
         ],
         "xaxis": "x",
         "y": [
          13,
          15,
          9,
          11,
          11,
          11,
          12,
          11,
          14,
          9,
          16,
          17,
          14,
          14,
          11
         ],
         "yaxis": "y"
        },
        {
         "hovertemplate": "Categoria=Rei das assistências<br>Assistências=%{x}<br>Gols=%{y}<br>Nome=%{text}<extra></extra>",
         "legendgroup": "Rei das assistências",
         "marker": {
          "color": "#00cc96",
          "symbol": "circle"
         },
         "mode": "markers+text",
         "name": "Rei das assistências",
         "orientation": "v",
         "showlegend": true,
         "text": [
          "De Bruyne",
          "Sancho",
          "Di María",
          "Müller"
         ],
         "textposition": "top center",
         "type": "scatter",
         "x": [
          16,
          15,
          14,
          16
         ],
         "xaxis": "x",
         "y": [
          8,
          14,
          8,
          6
         ],
         "yaxis": "y"
        },
        {
         "hovertemplate": "Categoria=Suporte nas assistências<br>Assistências=%{x}<br>Gols=%{y}<br>Nome=%{text}<extra></extra>",
         "legendgroup": "Suporte nas assistências",
         "marker": {
          "color": "#ab63fa",
          "symbol": "circle"
         },
         "mode": "markers+text",
         "name": "Suporte nas assistências",
         "orientation": "v",
         "showlegend": true,
         "text": [
          "Alberto",
          "Traoré",
          "Mahrez",
          "Kostic",
          "Nkunku",
          " Gómez",
          " Hakimi",
          "Grealish",
          "Thuram"
         ],
         "textposition": "top center",
         "type": "scatter",
         "x": [
          12,
          7,
          8,
          8,
          12,
          10,
          10,
          6,
          8
         ],
         "xaxis": "x",
         "y": [
          4,
          4,
          7,
          4,
          4,
          6,
          3,
          7,
          6
         ],
         "yaxis": "y"
        },
        {
         "hovertemplate": "Categoria=Discreto<br>Assistências=%{x}<br>Gols=%{y}<br>Nome=%{text}<extra></extra>",
         "legendgroup": "Discreto",
         "marker": {
          "color": "#FFA15A",
          "symbol": "circle"
         },
         "mode": "markers+text",
         "name": "Discreto",
         "orientation": "v",
         "showlegend": true,
         "text": [
          "Thiago",
          "Casemiro",
          "Davies",
          "Pereira",
          "Savanier",
          "Serdar",
          "Fekir",
          "Dybala",
          "Guerreiro",
          "Ndidi",
          "Merino",
          "Maddison",
          "kimmich",
          "Gueye",
          "Milinkovic-Savic"
         ],
         "textposition": "top center",
         "type": "scatter",
         "x": [
          0,
          2,
          4,
          2,
          2,
          0,
          3,
          4,
          2,
          1,
          1,
          3,
          4,
          2,
          4
         ],
         "xaxis": "x",
         "y": [
          3,
          3,
          1,
          3,
          6,
          7,
          7,
          7,
          5,
          2,
          3,
          6,
          2,
          1,
          4
         ],
         "yaxis": "y"
        }
       ],
       "layout": {
        "legend": {
         "title": {
          "text": "Categoria"
         },
         "tracegroupgap": 0
        },
        "template": {
         "data": {
          "bar": [
           {
            "error_x": {
             "color": "#2a3f5f"
            },
            "error_y": {
             "color": "#2a3f5f"
            },
            "marker": {
             "line": {
              "color": "#E5ECF6",
              "width": 0.5
             },
             "pattern": {
              "fillmode": "overlay",
              "size": 10,
              "solidity": 0.2
             }
            },
            "type": "bar"
           }
          ],
          "barpolar": [
           {
            "marker": {
             "line": {
              "color": "#E5ECF6",
              "width": 0.5
             },
             "pattern": {
              "fillmode": "overlay",
              "size": 10,
              "solidity": 0.2
             }
            },
            "type": "barpolar"
           }
          ],
          "carpet": [
           {
            "aaxis": {
             "endlinecolor": "#2a3f5f",
             "gridcolor": "white",
             "linecolor": "white",
             "minorgridcolor": "white",
             "startlinecolor": "#2a3f5f"
            },
            "baxis": {
             "endlinecolor": "#2a3f5f",
             "gridcolor": "white",
             "linecolor": "white",
             "minorgridcolor": "white",
             "startlinecolor": "#2a3f5f"
            },
            "type": "carpet"
           }
          ],
          "choropleth": [
           {
            "colorbar": {
             "outlinewidth": 0,
             "ticks": ""
            },
            "type": "choropleth"
           }
          ],
          "contour": [
           {
            "colorbar": {
             "outlinewidth": 0,
             "ticks": ""
            },
            "colorscale": [
             [
              0,
              "#0d0887"
             ],
             [
              0.1111111111111111,
              "#46039f"
             ],
             [
              0.2222222222222222,
              "#7201a8"
             ],
             [
              0.3333333333333333,
              "#9c179e"
             ],
             [
              0.4444444444444444,
              "#bd3786"
             ],
             [
              0.5555555555555556,
              "#d8576b"
             ],
             [
              0.6666666666666666,
              "#ed7953"
             ],
             [
              0.7777777777777778,
              "#fb9f3a"
             ],
             [
              0.8888888888888888,
              "#fdca26"
             ],
             [
              1,
              "#f0f921"
             ]
            ],
            "type": "contour"
           }
          ],
          "contourcarpet": [
           {
            "colorbar": {
             "outlinewidth": 0,
             "ticks": ""
            },
            "type": "contourcarpet"
           }
          ],
          "heatmap": [
           {
            "colorbar": {
             "outlinewidth": 0,
             "ticks": ""
            },
            "colorscale": [
             [
              0,
              "#0d0887"
             ],
             [
              0.1111111111111111,
              "#46039f"
             ],
             [
              0.2222222222222222,
              "#7201a8"
             ],
             [
              0.3333333333333333,
              "#9c179e"
             ],
             [
              0.4444444444444444,
              "#bd3786"
             ],
             [
              0.5555555555555556,
              "#d8576b"
             ],
             [
              0.6666666666666666,
              "#ed7953"
             ],
             [
              0.7777777777777778,
              "#fb9f3a"
             ],
             [
              0.8888888888888888,
              "#fdca26"
             ],
             [
              1,
              "#f0f921"
             ]
            ],
            "type": "heatmap"
           }
          ],
          "heatmapgl": [
           {
            "colorbar": {
             "outlinewidth": 0,
             "ticks": ""
            },
            "colorscale": [
             [
              0,
              "#0d0887"
             ],
             [
              0.1111111111111111,
              "#46039f"
             ],
             [
              0.2222222222222222,
              "#7201a8"
             ],
             [
              0.3333333333333333,
              "#9c179e"
             ],
             [
              0.4444444444444444,
              "#bd3786"
             ],
             [
              0.5555555555555556,
              "#d8576b"
             ],
             [
              0.6666666666666666,
              "#ed7953"
             ],
             [
              0.7777777777777778,
              "#fb9f3a"
             ],
             [
              0.8888888888888888,
              "#fdca26"
             ],
             [
              1,
              "#f0f921"
             ]
            ],
            "type": "heatmapgl"
           }
          ],
          "histogram": [
           {
            "marker": {
             "pattern": {
              "fillmode": "overlay",
              "size": 10,
              "solidity": 0.2
             }
            },
            "type": "histogram"
           }
          ],
          "histogram2d": [
           {
            "colorbar": {
             "outlinewidth": 0,
             "ticks": ""
            },
            "colorscale": [
             [
              0,
              "#0d0887"
             ],
             [
              0.1111111111111111,
              "#46039f"
             ],
             [
              0.2222222222222222,
              "#7201a8"
             ],
             [
              0.3333333333333333,
              "#9c179e"
             ],
             [
              0.4444444444444444,
              "#bd3786"
             ],
             [
              0.5555555555555556,
              "#d8576b"
             ],
             [
              0.6666666666666666,
              "#ed7953"
             ],
             [
              0.7777777777777778,
              "#fb9f3a"
             ],
             [
              0.8888888888888888,
              "#fdca26"
             ],
             [
              1,
              "#f0f921"
             ]
            ],
            "type": "histogram2d"
           }
          ],
          "histogram2dcontour": [
           {
            "colorbar": {
             "outlinewidth": 0,
             "ticks": ""
            },
            "colorscale": [
             [
              0,
              "#0d0887"
             ],
             [
              0.1111111111111111,
              "#46039f"
             ],
             [
              0.2222222222222222,
              "#7201a8"
             ],
             [
              0.3333333333333333,
              "#9c179e"
             ],
             [
              0.4444444444444444,
              "#bd3786"
             ],
             [
              0.5555555555555556,
              "#d8576b"
             ],
             [
              0.6666666666666666,
              "#ed7953"
             ],
             [
              0.7777777777777778,
              "#fb9f3a"
             ],
             [
              0.8888888888888888,
              "#fdca26"
             ],
             [
              1,
              "#f0f921"
             ]
            ],
            "type": "histogram2dcontour"
           }
          ],
          "mesh3d": [
           {
            "colorbar": {
             "outlinewidth": 0,
             "ticks": ""
            },
            "type": "mesh3d"
           }
          ],
          "parcoords": [
           {
            "line": {
             "colorbar": {
              "outlinewidth": 0,
              "ticks": ""
             }
            },
            "type": "parcoords"
           }
          ],
          "pie": [
           {
            "automargin": true,
            "type": "pie"
           }
          ],
          "scatter": [
           {
            "fillpattern": {
             "fillmode": "overlay",
             "size": 10,
             "solidity": 0.2
            },
            "type": "scatter"
           }
          ],
          "scatter3d": [
           {
            "line": {
             "colorbar": {
              "outlinewidth": 0,
              "ticks": ""
             }
            },
            "marker": {
             "colorbar": {
              "outlinewidth": 0,
              "ticks": ""
             }
            },
            "type": "scatter3d"
           }
          ],
          "scattercarpet": [
           {
            "marker": {
             "colorbar": {
              "outlinewidth": 0,
              "ticks": ""
             }
            },
            "type": "scattercarpet"
           }
          ],
          "scattergeo": [
           {
            "marker": {
             "colorbar": {
              "outlinewidth": 0,
              "ticks": ""
             }
            },
            "type": "scattergeo"
           }
          ],
          "scattergl": [
           {
            "marker": {
             "colorbar": {
              "outlinewidth": 0,
              "ticks": ""
             }
            },
            "type": "scattergl"
           }
          ],
          "scattermapbox": [
           {
            "marker": {
             "colorbar": {
              "outlinewidth": 0,
              "ticks": ""
             }
            },
            "type": "scattermapbox"
           }
          ],
          "scatterpolar": [
           {
            "marker": {
             "colorbar": {
              "outlinewidth": 0,
              "ticks": ""
             }
            },
            "type": "scatterpolar"
           }
          ],
          "scatterpolargl": [
           {
            "marker": {
             "colorbar": {
              "outlinewidth": 0,
              "ticks": ""
             }
            },
            "type": "scatterpolargl"
           }
          ],
          "scatterternary": [
           {
            "marker": {
             "colorbar": {
              "outlinewidth": 0,
              "ticks": ""
             }
            },
            "type": "scatterternary"
           }
          ],
          "surface": [
           {
            "colorbar": {
             "outlinewidth": 0,
             "ticks": ""
            },
            "colorscale": [
             [
              0,
              "#0d0887"
             ],
             [
              0.1111111111111111,
              "#46039f"
             ],
             [
              0.2222222222222222,
              "#7201a8"
             ],
             [
              0.3333333333333333,
              "#9c179e"
             ],
             [
              0.4444444444444444,
              "#bd3786"
             ],
             [
              0.5555555555555556,
              "#d8576b"
             ],
             [
              0.6666666666666666,
              "#ed7953"
             ],
             [
              0.7777777777777778,
              "#fb9f3a"
             ],
             [
              0.8888888888888888,
              "#fdca26"
             ],
             [
              1,
              "#f0f921"
             ]
            ],
            "type": "surface"
           }
          ],
          "table": [
           {
            "cells": {
             "fill": {
              "color": "#EBF0F8"
             },
             "line": {
              "color": "white"
             }
            },
            "header": {
             "fill": {
              "color": "#C8D4E3"
             },
             "line": {
              "color": "white"
             }
            },
            "type": "table"
           }
          ]
         },
         "layout": {
          "annotationdefaults": {
           "arrowcolor": "#2a3f5f",
           "arrowhead": 0,
           "arrowwidth": 1
          },
          "autotypenumbers": "strict",
          "coloraxis": {
           "colorbar": {
            "outlinewidth": 0,
            "ticks": ""
           }
          },
          "colorscale": {
           "diverging": [
            [
             0,
             "#8e0152"
            ],
            [
             0.1,
             "#c51b7d"
            ],
            [
             0.2,
             "#de77ae"
            ],
            [
             0.3,
             "#f1b6da"
            ],
            [
             0.4,
             "#fde0ef"
            ],
            [
             0.5,
             "#f7f7f7"
            ],
            [
             0.6,
             "#e6f5d0"
            ],
            [
             0.7,
             "#b8e186"
            ],
            [
             0.8,
             "#7fbc41"
            ],
            [
             0.9,
             "#4d9221"
            ],
            [
             1,
             "#276419"
            ]
           ],
           "sequential": [
            [
             0,
             "#0d0887"
            ],
            [
             0.1111111111111111,
             "#46039f"
            ],
            [
             0.2222222222222222,
             "#7201a8"
            ],
            [
             0.3333333333333333,
             "#9c179e"
            ],
            [
             0.4444444444444444,
             "#bd3786"
            ],
            [
             0.5555555555555556,
             "#d8576b"
            ],
            [
             0.6666666666666666,
             "#ed7953"
            ],
            [
             0.7777777777777778,
             "#fb9f3a"
            ],
            [
             0.8888888888888888,
             "#fdca26"
            ],
            [
             1,
             "#f0f921"
            ]
           ],
           "sequentialminus": [
            [
             0,
             "#0d0887"
            ],
            [
             0.1111111111111111,
             "#46039f"
            ],
            [
             0.2222222222222222,
             "#7201a8"
            ],
            [
             0.3333333333333333,
             "#9c179e"
            ],
            [
             0.4444444444444444,
             "#bd3786"
            ],
            [
             0.5555555555555556,
             "#d8576b"
            ],
            [
             0.6666666666666666,
             "#ed7953"
            ],
            [
             0.7777777777777778,
             "#fb9f3a"
            ],
            [
             0.8888888888888888,
             "#fdca26"
            ],
            [
             1,
             "#f0f921"
            ]
           ]
          },
          "colorway": [
           "#636efa",
           "#EF553B",
           "#00cc96",
           "#ab63fa",
           "#FFA15A",
           "#19d3f3",
           "#FF6692",
           "#B6E880",
           "#FF97FF",
           "#FECB52"
          ],
          "font": {
           "color": "#2a3f5f"
          },
          "geo": {
           "bgcolor": "white",
           "lakecolor": "white",
           "landcolor": "#E5ECF6",
           "showlakes": true,
           "showland": true,
           "subunitcolor": "white"
          },
          "hoverlabel": {
           "align": "left"
          },
          "hovermode": "closest",
          "mapbox": {
           "style": "light"
          },
          "paper_bgcolor": "white",
          "plot_bgcolor": "#E5ECF6",
          "polar": {
           "angularaxis": {
            "gridcolor": "white",
            "linecolor": "white",
            "ticks": ""
           },
           "bgcolor": "#E5ECF6",
           "radialaxis": {
            "gridcolor": "white",
            "linecolor": "white",
            "ticks": ""
           }
          },
          "scene": {
           "xaxis": {
            "backgroundcolor": "#E5ECF6",
            "gridcolor": "white",
            "gridwidth": 2,
            "linecolor": "white",
            "showbackground": true,
            "ticks": "",
            "zerolinecolor": "white"
           },
           "yaxis": {
            "backgroundcolor": "#E5ECF6",
            "gridcolor": "white",
            "gridwidth": 2,
            "linecolor": "white",
            "showbackground": true,
            "ticks": "",
            "zerolinecolor": "white"
           },
           "zaxis": {
            "backgroundcolor": "#E5ECF6",
            "gridcolor": "white",
            "gridwidth": 2,
            "linecolor": "white",
            "showbackground": true,
            "ticks": "",
            "zerolinecolor": "white"
           }
          },
          "shapedefaults": {
           "line": {
            "color": "#2a3f5f"
           }
          },
          "ternary": {
           "aaxis": {
            "gridcolor": "white",
            "linecolor": "white",
            "ticks": ""
           },
           "baxis": {
            "gridcolor": "white",
            "linecolor": "white",
            "ticks": ""
           },
           "bgcolor": "#E5ECF6",
           "caxis": {
            "gridcolor": "white",
            "linecolor": "white",
            "ticks": ""
           }
          },
          "title": {
           "x": 0.05
          },
          "xaxis": {
           "automargin": true,
           "gridcolor": "white",
           "linecolor": "white",
           "ticks": "",
           "title": {
            "standoff": 15
           },
           "zerolinecolor": "white",
           "zerolinewidth": 2
          },
          "yaxis": {
           "automargin": true,
           "gridcolor": "white",
           "linecolor": "white",
           "ticks": "",
           "title": {
            "standoff": 15
           },
           "zerolinecolor": "white",
           "zerolinewidth": 2
          }
         }
        },
        "title": {
         "text": "Clusterização K-Means"
        },
        "xaxis": {
         "anchor": "y",
         "domain": [
          0,
          1
         ],
         "title": {
          "text": "Assistências"
         }
        },
        "yaxis": {
         "anchor": "x",
         "domain": [
          0,
          1
         ],
         "title": {
          "text": "Gols"
         }
        }
       }
      },
      "text/html": [
       "<div>                            <div id=\"2e0ea499-76c4-447e-b328-3ad13f48bcd2\" class=\"plotly-graph-div\" style=\"height:525px; width:100%;\"></div>            <script type=\"text/javascript\">                require([\"plotly\"], function(Plotly) {                    window.PLOTLYENV=window.PLOTLYENV || {};                                    if (document.getElementById(\"2e0ea499-76c4-447e-b328-3ad13f48bcd2\")) {                    Plotly.newPlot(                        \"2e0ea499-76c4-447e-b328-3ad13f48bcd2\",                        [{\"hovertemplate\":\"Categoria=Fora de s\\u00e9rie<br>Assist\\u00eancias=%{x}<br>Gols=%{y}<br>Nome=%{text}<extra></extra>\",\"legendgroup\":\"Fora de s\\u00e9rie\",\"marker\":{\"color\":\"#636efa\",\"symbol\":\"circle\"},\"mode\":\"markers+text\",\"name\":\"Fora de s\\u00e9rie\",\"orientation\":\"v\",\"showlegend\":true,\"text\":[\"Messi\",\" Lewandowski\",\"Mbapp\\u00e9\",\"Ronaldo\",\"Immobile\",\"Werner\",\"Ben Yedder\"],\"x\":[12,3,5,3,7,7,4],\"xaxis\":\"x\",\"y\":[19,25,18,21,27,21,18],\"yaxis\":\"y\",\"type\":\"scatter\",\"textposition\":\"top center\"},{\"hovertemplate\":\"Categoria=Suporte nos gols<br>Assist\\u00eancias=%{x}<br>Gols=%{y}<br>Nome=%{text}<extra></extra>\",\"legendgroup\":\"Suporte nos gols\",\"marker\":{\"color\":\"#EF553B\",\"symbol\":\"circle\"},\"mode\":\"markers+text\",\"name\":\"Suporte nos gols\",\"orientation\":\"v\",\"showlegend\":true,\"text\":[\"Neymar\",\" Ilicic\",\"Payet\",\"Gnabry\",\"Zapata\",\"Su\\u00e1rez\",\"Dzeko\",\"Reus\",\"Man\\u00e9\",\"Berardi\",\"Salah\",\"Lukaku\",\"Benzema\",\"Rashford\",\" Moreno\"],\"x\":[6,5,4,9,5,7,4,5,7,5,6,2,6,4,3],\"xaxis\":\"x\",\"y\":[13,15,9,11,11,11,12,11,14,9,16,17,14,14,11],\"yaxis\":\"y\",\"type\":\"scatter\",\"textposition\":\"top center\"},{\"hovertemplate\":\"Categoria=Rei das assist\\u00eancias<br>Assist\\u00eancias=%{x}<br>Gols=%{y}<br>Nome=%{text}<extra></extra>\",\"legendgroup\":\"Rei das assist\\u00eancias\",\"marker\":{\"color\":\"#00cc96\",\"symbol\":\"circle\"},\"mode\":\"markers+text\",\"name\":\"Rei das assist\\u00eancias\",\"orientation\":\"v\",\"showlegend\":true,\"text\":[\"De Bruyne\",\"Sancho\",\"Di Mar\\u00eda\",\"M\\u00fcller\"],\"x\":[16,15,14,16],\"xaxis\":\"x\",\"y\":[8,14,8,6],\"yaxis\":\"y\",\"type\":\"scatter\",\"textposition\":\"top center\"},{\"hovertemplate\":\"Categoria=Suporte nas assist\\u00eancias<br>Assist\\u00eancias=%{x}<br>Gols=%{y}<br>Nome=%{text}<extra></extra>\",\"legendgroup\":\"Suporte nas assist\\u00eancias\",\"marker\":{\"color\":\"#ab63fa\",\"symbol\":\"circle\"},\"mode\":\"markers+text\",\"name\":\"Suporte nas assist\\u00eancias\",\"orientation\":\"v\",\"showlegend\":true,\"text\":[\"Alberto\",\"Traor\\u00e9\",\"Mahrez\",\"Kostic\",\"Nkunku\",\" G\\u00f3mez\",\" Hakimi\",\"Grealish\",\"Thuram\"],\"x\":[12,7,8,8,12,10,10,6,8],\"xaxis\":\"x\",\"y\":[4,4,7,4,4,6,3,7,6],\"yaxis\":\"y\",\"type\":\"scatter\",\"textposition\":\"top center\"},{\"hovertemplate\":\"Categoria=Discreto<br>Assist\\u00eancias=%{x}<br>Gols=%{y}<br>Nome=%{text}<extra></extra>\",\"legendgroup\":\"Discreto\",\"marker\":{\"color\":\"#FFA15A\",\"symbol\":\"circle\"},\"mode\":\"markers+text\",\"name\":\"Discreto\",\"orientation\":\"v\",\"showlegend\":true,\"text\":[\"Thiago\",\"Casemiro\",\"Davies\",\"Pereira\",\"Savanier\",\"Serdar\",\"Fekir\",\"Dybala\",\"Guerreiro\",\"Ndidi\",\"Merino\",\"Maddison\",\"kimmich\",\"Gueye\",\"Milinkovic-Savic\"],\"x\":[0,2,4,2,2,0,3,4,2,1,1,3,4,2,4],\"xaxis\":\"x\",\"y\":[3,3,1,3,6,7,7,7,5,2,3,6,2,1,4],\"yaxis\":\"y\",\"type\":\"scatter\",\"textposition\":\"top center\"}],                        {\"template\":{\"data\":{\"histogram2dcontour\":[{\"type\":\"histogram2dcontour\",\"colorbar\":{\"outlinewidth\":0,\"ticks\":\"\"},\"colorscale\":[[0.0,\"#0d0887\"],[0.1111111111111111,\"#46039f\"],[0.2222222222222222,\"#7201a8\"],[0.3333333333333333,\"#9c179e\"],[0.4444444444444444,\"#bd3786\"],[0.5555555555555556,\"#d8576b\"],[0.6666666666666666,\"#ed7953\"],[0.7777777777777778,\"#fb9f3a\"],[0.8888888888888888,\"#fdca26\"],[1.0,\"#f0f921\"]]}],\"choropleth\":[{\"type\":\"choropleth\",\"colorbar\":{\"outlinewidth\":0,\"ticks\":\"\"}}],\"histogram2d\":[{\"type\":\"histogram2d\",\"colorbar\":{\"outlinewidth\":0,\"ticks\":\"\"},\"colorscale\":[[0.0,\"#0d0887\"],[0.1111111111111111,\"#46039f\"],[0.2222222222222222,\"#7201a8\"],[0.3333333333333333,\"#9c179e\"],[0.4444444444444444,\"#bd3786\"],[0.5555555555555556,\"#d8576b\"],[0.6666666666666666,\"#ed7953\"],[0.7777777777777778,\"#fb9f3a\"],[0.8888888888888888,\"#fdca26\"],[1.0,\"#f0f921\"]]}],\"heatmap\":[{\"type\":\"heatmap\",\"colorbar\":{\"outlinewidth\":0,\"ticks\":\"\"},\"colorscale\":[[0.0,\"#0d0887\"],[0.1111111111111111,\"#46039f\"],[0.2222222222222222,\"#7201a8\"],[0.3333333333333333,\"#9c179e\"],[0.4444444444444444,\"#bd3786\"],[0.5555555555555556,\"#d8576b\"],[0.6666666666666666,\"#ed7953\"],[0.7777777777777778,\"#fb9f3a\"],[0.8888888888888888,\"#fdca26\"],[1.0,\"#f0f921\"]]}],\"heatmapgl\":[{\"type\":\"heatmapgl\",\"colorbar\":{\"outlinewidth\":0,\"ticks\":\"\"},\"colorscale\":[[0.0,\"#0d0887\"],[0.1111111111111111,\"#46039f\"],[0.2222222222222222,\"#7201a8\"],[0.3333333333333333,\"#9c179e\"],[0.4444444444444444,\"#bd3786\"],[0.5555555555555556,\"#d8576b\"],[0.6666666666666666,\"#ed7953\"],[0.7777777777777778,\"#fb9f3a\"],[0.8888888888888888,\"#fdca26\"],[1.0,\"#f0f921\"]]}],\"contourcarpet\":[{\"type\":\"contourcarpet\",\"colorbar\":{\"outlinewidth\":0,\"ticks\":\"\"}}],\"contour\":[{\"type\":\"contour\",\"colorbar\":{\"outlinewidth\":0,\"ticks\":\"\"},\"colorscale\":[[0.0,\"#0d0887\"],[0.1111111111111111,\"#46039f\"],[0.2222222222222222,\"#7201a8\"],[0.3333333333333333,\"#9c179e\"],[0.4444444444444444,\"#bd3786\"],[0.5555555555555556,\"#d8576b\"],[0.6666666666666666,\"#ed7953\"],[0.7777777777777778,\"#fb9f3a\"],[0.8888888888888888,\"#fdca26\"],[1.0,\"#f0f921\"]]}],\"surface\":[{\"type\":\"surface\",\"colorbar\":{\"outlinewidth\":0,\"ticks\":\"\"},\"colorscale\":[[0.0,\"#0d0887\"],[0.1111111111111111,\"#46039f\"],[0.2222222222222222,\"#7201a8\"],[0.3333333333333333,\"#9c179e\"],[0.4444444444444444,\"#bd3786\"],[0.5555555555555556,\"#d8576b\"],[0.6666666666666666,\"#ed7953\"],[0.7777777777777778,\"#fb9f3a\"],[0.8888888888888888,\"#fdca26\"],[1.0,\"#f0f921\"]]}],\"mesh3d\":[{\"type\":\"mesh3d\",\"colorbar\":{\"outlinewidth\":0,\"ticks\":\"\"}}],\"scatter\":[{\"fillpattern\":{\"fillmode\":\"overlay\",\"size\":10,\"solidity\":0.2},\"type\":\"scatter\"}],\"parcoords\":[{\"type\":\"parcoords\",\"line\":{\"colorbar\":{\"outlinewidth\":0,\"ticks\":\"\"}}}],\"scatterpolargl\":[{\"type\":\"scatterpolargl\",\"marker\":{\"colorbar\":{\"outlinewidth\":0,\"ticks\":\"\"}}}],\"bar\":[{\"error_x\":{\"color\":\"#2a3f5f\"},\"error_y\":{\"color\":\"#2a3f5f\"},\"marker\":{\"line\":{\"color\":\"#E5ECF6\",\"width\":0.5},\"pattern\":{\"fillmode\":\"overlay\",\"size\":10,\"solidity\":0.2}},\"type\":\"bar\"}],\"scattergeo\":[{\"type\":\"scattergeo\",\"marker\":{\"colorbar\":{\"outlinewidth\":0,\"ticks\":\"\"}}}],\"scatterpolar\":[{\"type\":\"scatterpolar\",\"marker\":{\"colorbar\":{\"outlinewidth\":0,\"ticks\":\"\"}}}],\"histogram\":[{\"marker\":{\"pattern\":{\"fillmode\":\"overlay\",\"size\":10,\"solidity\":0.2}},\"type\":\"histogram\"}],\"scattergl\":[{\"type\":\"scattergl\",\"marker\":{\"colorbar\":{\"outlinewidth\":0,\"ticks\":\"\"}}}],\"scatter3d\":[{\"type\":\"scatter3d\",\"line\":{\"colorbar\":{\"outlinewidth\":0,\"ticks\":\"\"}},\"marker\":{\"colorbar\":{\"outlinewidth\":0,\"ticks\":\"\"}}}],\"scattermapbox\":[{\"type\":\"scattermapbox\",\"marker\":{\"colorbar\":{\"outlinewidth\":0,\"ticks\":\"\"}}}],\"scatterternary\":[{\"type\":\"scatterternary\",\"marker\":{\"colorbar\":{\"outlinewidth\":0,\"ticks\":\"\"}}}],\"scattercarpet\":[{\"type\":\"scattercarpet\",\"marker\":{\"colorbar\":{\"outlinewidth\":0,\"ticks\":\"\"}}}],\"carpet\":[{\"aaxis\":{\"endlinecolor\":\"#2a3f5f\",\"gridcolor\":\"white\",\"linecolor\":\"white\",\"minorgridcolor\":\"white\",\"startlinecolor\":\"#2a3f5f\"},\"baxis\":{\"endlinecolor\":\"#2a3f5f\",\"gridcolor\":\"white\",\"linecolor\":\"white\",\"minorgridcolor\":\"white\",\"startlinecolor\":\"#2a3f5f\"},\"type\":\"carpet\"}],\"table\":[{\"cells\":{\"fill\":{\"color\":\"#EBF0F8\"},\"line\":{\"color\":\"white\"}},\"header\":{\"fill\":{\"color\":\"#C8D4E3\"},\"line\":{\"color\":\"white\"}},\"type\":\"table\"}],\"barpolar\":[{\"marker\":{\"line\":{\"color\":\"#E5ECF6\",\"width\":0.5},\"pattern\":{\"fillmode\":\"overlay\",\"size\":10,\"solidity\":0.2}},\"type\":\"barpolar\"}],\"pie\":[{\"automargin\":true,\"type\":\"pie\"}]},\"layout\":{\"autotypenumbers\":\"strict\",\"colorway\":[\"#636efa\",\"#EF553B\",\"#00cc96\",\"#ab63fa\",\"#FFA15A\",\"#19d3f3\",\"#FF6692\",\"#B6E880\",\"#FF97FF\",\"#FECB52\"],\"font\":{\"color\":\"#2a3f5f\"},\"hovermode\":\"closest\",\"hoverlabel\":{\"align\":\"left\"},\"paper_bgcolor\":\"white\",\"plot_bgcolor\":\"#E5ECF6\",\"polar\":{\"bgcolor\":\"#E5ECF6\",\"angularaxis\":{\"gridcolor\":\"white\",\"linecolor\":\"white\",\"ticks\":\"\"},\"radialaxis\":{\"gridcolor\":\"white\",\"linecolor\":\"white\",\"ticks\":\"\"}},\"ternary\":{\"bgcolor\":\"#E5ECF6\",\"aaxis\":{\"gridcolor\":\"white\",\"linecolor\":\"white\",\"ticks\":\"\"},\"baxis\":{\"gridcolor\":\"white\",\"linecolor\":\"white\",\"ticks\":\"\"},\"caxis\":{\"gridcolor\":\"white\",\"linecolor\":\"white\",\"ticks\":\"\"}},\"coloraxis\":{\"colorbar\":{\"outlinewidth\":0,\"ticks\":\"\"}},\"colorscale\":{\"sequential\":[[0.0,\"#0d0887\"],[0.1111111111111111,\"#46039f\"],[0.2222222222222222,\"#7201a8\"],[0.3333333333333333,\"#9c179e\"],[0.4444444444444444,\"#bd3786\"],[0.5555555555555556,\"#d8576b\"],[0.6666666666666666,\"#ed7953\"],[0.7777777777777778,\"#fb9f3a\"],[0.8888888888888888,\"#fdca26\"],[1.0,\"#f0f921\"]],\"sequentialminus\":[[0.0,\"#0d0887\"],[0.1111111111111111,\"#46039f\"],[0.2222222222222222,\"#7201a8\"],[0.3333333333333333,\"#9c179e\"],[0.4444444444444444,\"#bd3786\"],[0.5555555555555556,\"#d8576b\"],[0.6666666666666666,\"#ed7953\"],[0.7777777777777778,\"#fb9f3a\"],[0.8888888888888888,\"#fdca26\"],[1.0,\"#f0f921\"]],\"diverging\":[[0,\"#8e0152\"],[0.1,\"#c51b7d\"],[0.2,\"#de77ae\"],[0.3,\"#f1b6da\"],[0.4,\"#fde0ef\"],[0.5,\"#f7f7f7\"],[0.6,\"#e6f5d0\"],[0.7,\"#b8e186\"],[0.8,\"#7fbc41\"],[0.9,\"#4d9221\"],[1,\"#276419\"]]},\"xaxis\":{\"gridcolor\":\"white\",\"linecolor\":\"white\",\"ticks\":\"\",\"title\":{\"standoff\":15},\"zerolinecolor\":\"white\",\"automargin\":true,\"zerolinewidth\":2},\"yaxis\":{\"gridcolor\":\"white\",\"linecolor\":\"white\",\"ticks\":\"\",\"title\":{\"standoff\":15},\"zerolinecolor\":\"white\",\"automargin\":true,\"zerolinewidth\":2},\"scene\":{\"xaxis\":{\"backgroundcolor\":\"#E5ECF6\",\"gridcolor\":\"white\",\"linecolor\":\"white\",\"showbackground\":true,\"ticks\":\"\",\"zerolinecolor\":\"white\",\"gridwidth\":2},\"yaxis\":{\"backgroundcolor\":\"#E5ECF6\",\"gridcolor\":\"white\",\"linecolor\":\"white\",\"showbackground\":true,\"ticks\":\"\",\"zerolinecolor\":\"white\",\"gridwidth\":2},\"zaxis\":{\"backgroundcolor\":\"#E5ECF6\",\"gridcolor\":\"white\",\"linecolor\":\"white\",\"showbackground\":true,\"ticks\":\"\",\"zerolinecolor\":\"white\",\"gridwidth\":2}},\"shapedefaults\":{\"line\":{\"color\":\"#2a3f5f\"}},\"annotationdefaults\":{\"arrowcolor\":\"#2a3f5f\",\"arrowhead\":0,\"arrowwidth\":1},\"geo\":{\"bgcolor\":\"white\",\"landcolor\":\"#E5ECF6\",\"subunitcolor\":\"white\",\"showland\":true,\"showlakes\":true,\"lakecolor\":\"white\"},\"title\":{\"x\":0.05},\"mapbox\":{\"style\":\"light\"}}},\"xaxis\":{\"anchor\":\"y\",\"domain\":[0.0,1.0],\"title\":{\"text\":\"Assist\\u00eancias\"}},\"yaxis\":{\"anchor\":\"x\",\"domain\":[0.0,1.0],\"title\":{\"text\":\"Gols\"}},\"legend\":{\"title\":{\"text\":\"Categoria\"},\"tracegroupgap\":0},\"title\":{\"text\":\"Clusteriza\\u00e7\\u00e3o K-Means\"}},                        {\"responsive\": true}                    ).then(function(){\n",
       "                            \n",
       "var gd = document.getElementById('2e0ea499-76c4-447e-b328-3ad13f48bcd2');\n",
       "var x = new MutationObserver(function (mutations, observer) {{\n",
       "        var display = window.getComputedStyle(gd).display;\n",
       "        if (!display || display === 'none') {{\n",
       "            console.log([gd, 'removed!']);\n",
       "            Plotly.purge(gd);\n",
       "            observer.disconnect();\n",
       "        }}\n",
       "}});\n",
       "\n",
       "// Listen for the removal of the full notebook cells\n",
       "var notebookContainer = gd.closest('#notebook-container');\n",
       "if (notebookContainer) {{\n",
       "    x.observe(notebookContainer, {childList: true});\n",
       "}}\n",
       "\n",
       "// Listen for the clearing of the current output cell\n",
       "var outputEl = gd.closest('.output');\n",
       "if (outputEl) {{\n",
       "    x.observe(outputEl, {childList: true});\n",
       "}}\n",
       "\n",
       "                        })                };                });            </script>        </div>"
      ]
     },
     "metadata": {},
     "output_type": "display_data"
    }
   ],
   "source": [
    "#Plotando o grafico para melhor visualização\n",
    "\n",
    "fig = px.scatter(df, x=\"Assistências\", y=\"Gols\", color=\"Categoria\", text=\"Nome\", title=\"Clusterização K-Means\")\n",
    "fig.update_traces(textposition = 'top center')\n",
    "fig.show()"
   ]
  }
 ],
 "metadata": {
  "kernelspec": {
   "display_name": "Python 3",
   "language": "python",
   "name": "python3"
  },
  "language_info": {
   "codemirror_mode": {
    "name": "ipython",
    "version": 3
   },
   "file_extension": ".py",
   "mimetype": "text/x-python",
   "name": "python",
   "nbconvert_exporter": "python",
   "pygments_lexer": "ipython3",
   "version": "3.8.5"
  }
 },
 "nbformat": 4,
 "nbformat_minor": 4
}
