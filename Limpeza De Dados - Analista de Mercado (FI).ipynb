{
 "cells": [
  {
   "cell_type": "code",
   "execution_count": 1,
   "metadata": {},
   "outputs": [],
   "source": [
    "import pandas as pd"
   ]
  },
  {
   "cell_type": "code",
   "execution_count": 2,
   "metadata": {},
   "outputs": [],
   "source": [
    "df = pd.read_csv('brasileirao_serie_a - brasileirao_serie_a.csv', sep=',')"
   ]
  },
  {
   "cell_type": "code",
   "execution_count": 3,
   "metadata": {
    "scrolled": true
   },
   "outputs": [
    {
     "data": {
      "text/html": [
       "<div>\n",
       "<style scoped>\n",
       "    .dataframe tbody tr th:only-of-type {\n",
       "        vertical-align: middle;\n",
       "    }\n",
       "\n",
       "    .dataframe tbody tr th {\n",
       "        vertical-align: top;\n",
       "    }\n",
       "\n",
       "    .dataframe thead th {\n",
       "        text-align: right;\n",
       "    }\n",
       "</style>\n",
       "<table border=\"1\" class=\"dataframe\">\n",
       "  <thead>\n",
       "    <tr style=\"text-align: right;\">\n",
       "      <th></th>\n",
       "      <th>ano_campeonato</th>\n",
       "      <th>data</th>\n",
       "      <th>horario</th>\n",
       "      <th>rodada</th>\n",
       "      <th>estadio</th>\n",
       "      <th>arbitro</th>\n",
       "      <th>publico</th>\n",
       "      <th>publico_max</th>\n",
       "      <th>time_man</th>\n",
       "      <th>time_vis</th>\n",
       "      <th>...</th>\n",
       "      <th>colocacao_man</th>\n",
       "      <th>colocacao_vis</th>\n",
       "      <th>valor_equipe_titular_man</th>\n",
       "      <th>valor_equipe_titular_vis</th>\n",
       "      <th>idade_media_titular_man</th>\n",
       "      <th>idade_media_titular_vis</th>\n",
       "      <th>gols_man</th>\n",
       "      <th>gols_vis</th>\n",
       "      <th>gols_1_tempo_man</th>\n",
       "      <th>gols_1_tempo_vis</th>\n",
       "    </tr>\n",
       "  </thead>\n",
       "  <tbody>\n",
       "    <tr>\n",
       "      <th>0</th>\n",
       "      <td>2008</td>\n",
       "      <td>2008-05-10</td>\n",
       "      <td>06:10</td>\n",
       "      <td>1</td>\n",
       "      <td>Estádio Eládio de Barros Carvalho</td>\n",
       "      <td>João Alberto Gomes Duarte</td>\n",
       "      <td>14620.0</td>\n",
       "      <td>NaN</td>\n",
       "      <td>Náutico</td>\n",
       "      <td>Goiás EC</td>\n",
       "      <td>...</td>\n",
       "      <td>5</td>\n",
       "      <td>13</td>\n",
       "      <td>6700000.0</td>\n",
       "      <td>8150000.0</td>\n",
       "      <td>27.6</td>\n",
       "      <td>25.1</td>\n",
       "      <td>2.0</td>\n",
       "      <td>1.0</td>\n",
       "      <td>1.0</td>\n",
       "      <td>1.0</td>\n",
       "    </tr>\n",
       "    <tr>\n",
       "      <th>1</th>\n",
       "      <td>2008</td>\n",
       "      <td>2008-05-10</td>\n",
       "      <td>06:10</td>\n",
       "      <td>1</td>\n",
       "      <td>Estádio Cícero Pompeu de Toledo</td>\n",
       "      <td>Luís Antônio Silva Santos</td>\n",
       "      <td>7929.0</td>\n",
       "      <td>NaN</td>\n",
       "      <td>São Paulo</td>\n",
       "      <td>Grêmio</td>\n",
       "      <td>...</td>\n",
       "      <td>14</td>\n",
       "      <td>seis</td>\n",
       "      <td>28400000.0</td>\n",
       "      <td>10100000.0</td>\n",
       "      <td>27.3</td>\n",
       "      <td>24.4</td>\n",
       "      <td>0.0</td>\n",
       "      <td>1.0</td>\n",
       "      <td>0.0</td>\n",
       "      <td>0.0</td>\n",
       "    </tr>\n",
       "    <tr>\n",
       "      <th>2</th>\n",
       "      <td>2008</td>\n",
       "      <td>2008-05-10</td>\n",
       "      <td>06:10</td>\n",
       "      <td>1</td>\n",
       "      <td>Estádio Manoel Barradas</td>\n",
       "      <td>Giulliano Bozzano</td>\n",
       "      <td>14679.0</td>\n",
       "      <td>NaN</td>\n",
       "      <td>EC Vitória</td>\n",
       "      <td>Cruzeiro</td>\n",
       "      <td>...</td>\n",
       "      <td>19</td>\n",
       "      <td>3</td>\n",
       "      <td>3000000.0</td>\n",
       "      <td>25600000.0</td>\n",
       "      <td>26.9</td>\n",
       "      <td>24.2</td>\n",
       "      <td>0.0</td>\n",
       "      <td>2.0</td>\n",
       "      <td>0.0</td>\n",
       "      <td>2.0</td>\n",
       "    </tr>\n",
       "  </tbody>\n",
       "</table>\n",
       "<p>3 rows × 22 columns</p>\n",
       "</div>"
      ],
      "text/plain": [
       "  ano_campeonato        data horario rodada  \\\n",
       "0           2008  2008-05-10   06:10      1   \n",
       "1           2008  2008-05-10   06:10      1   \n",
       "2           2008  2008-05-10   06:10      1   \n",
       "\n",
       "                             estadio                    arbitro  publico  \\\n",
       "0  Estádio Eládio de Barros Carvalho  João Alberto Gomes Duarte  14620.0   \n",
       "1    Estádio Cícero Pompeu de Toledo  Luís Antônio Silva Santos   7929.0   \n",
       "2            Estádio Manoel Barradas          Giulliano Bozzano  14679.0   \n",
       "\n",
       "   publico_max    time_man  time_vis  ... colocacao_man colocacao_vis  \\\n",
       "0          NaN     Náutico  Goiás EC  ...             5            13   \n",
       "1          NaN   São Paulo    Grêmio  ...            14          seis   \n",
       "2          NaN  EC Vitória  Cruzeiro  ...            19             3   \n",
       "\n",
       "  valor_equipe_titular_man valor_equipe_titular_vis  idade_media_titular_man  \\\n",
       "0                6700000.0                8150000.0                     27.6   \n",
       "1               28400000.0               10100000.0                     27.3   \n",
       "2                3000000.0               25600000.0                     26.9   \n",
       "\n",
       "   idade_media_titular_vis  gols_man  gols_vis  gols_1_tempo_man  \\\n",
       "0                     25.1       2.0       1.0               1.0   \n",
       "1                     24.4       0.0       1.0               0.0   \n",
       "2                     24.2       0.0       2.0               0.0   \n",
       "\n",
       "   gols_1_tempo_vis  \n",
       "0               1.0  \n",
       "1               0.0  \n",
       "2               2.0  \n",
       "\n",
       "[3 rows x 22 columns]"
      ]
     },
     "execution_count": 3,
     "metadata": {},
     "output_type": "execute_result"
    }
   ],
   "source": [
    "df.head(3)"
   ]
  },
  {
   "cell_type": "code",
   "execution_count": 4,
   "metadata": {
    "scrolled": true
   },
   "outputs": [
    {
     "name": "stdout",
     "output_type": "stream",
     "text": [
      "<class 'pandas.core.frame.DataFrame'>\n",
      "RangeIndex: 3800 entries, 0 to 3799\n",
      "Data columns (total 22 columns):\n",
      " #   Column                    Non-Null Count  Dtype  \n",
      "---  ------                    --------------  -----  \n",
      " 0   ano_campeonato            3800 non-null   object \n",
      " 1   data                      3800 non-null   object \n",
      " 2   horario                   3800 non-null   object \n",
      " 3   rodada                    3800 non-null   object \n",
      " 4   estadio                   3800 non-null   object \n",
      " 5   arbitro                   3800 non-null   object \n",
      " 6   publico                   3799 non-null   float64\n",
      " 7   publico_max               1644 non-null   float64\n",
      " 8   time_man                  3800 non-null   object \n",
      " 9   time_vis                  3800 non-null   object \n",
      " 10  tecnico_man               3527 non-null   object \n",
      " 11  tecnico_vis               3527 non-null   object \n",
      " 12  colocacao_man             3800 non-null   object \n",
      " 13  colocacao_vis             3800 non-null   object \n",
      " 14  valor_equipe_titular_man  3527 non-null   float64\n",
      " 15  valor_equipe_titular_vis  3527 non-null   float64\n",
      " 16  idade_media_titular_man   3525 non-null   float64\n",
      " 17  idade_media_titular_vis   3525 non-null   float64\n",
      " 18  gols_man                  3799 non-null   float64\n",
      " 19  gols_vis                  3799 non-null   float64\n",
      " 20  gols_1_tempo_man          3790 non-null   float64\n",
      " 21  gols_1_tempo_vis          3790 non-null   float64\n",
      "dtypes: float64(10), object(12)\n",
      "memory usage: 653.2+ KB\n"
     ]
    }
   ],
   "source": [
    "df.info()"
   ]
  },
  {
   "cell_type": "code",
   "execution_count": 5,
   "metadata": {},
   "outputs": [
    {
     "data": {
      "text/plain": [
       "Index(['ano_campeonato', 'data', 'horario', 'rodada', 'estadio', 'arbitro',\n",
       "       'publico', 'publico_max', 'time_man', 'time_vis', 'tecnico_man',\n",
       "       'tecnico_vis', 'colocacao_man', 'colocacao_vis',\n",
       "       'valor_equipe_titular_man', 'valor_equipe_titular_vis',\n",
       "       'idade_media_titular_man', 'idade_media_titular_vis', 'gols_man',\n",
       "       'gols_vis', 'gols_1_tempo_man', 'gols_1_tempo_vis'],\n",
       "      dtype='object')"
      ]
     },
     "execution_count": 5,
     "metadata": {},
     "output_type": "execute_result"
    }
   ],
   "source": [
    "#Puxando os nomes de cada coluna\n",
    "df.columns"
   ]
  },
  {
   "cell_type": "code",
   "execution_count": 6,
   "metadata": {},
   "outputs": [
    {
     "data": {
      "text/plain": [
       "2009              380\n",
       "2012              380\n",
       "2011              380\n",
       "2016              380\n",
       "2017              380\n",
       "2008              380\n",
       "2013              380\n",
       "2014              380\n",
       "2015              380\n",
       "2010              379\n",
       "dois mil e dez      1\n",
       "Name: ano_campeonato, dtype: int64"
      ]
     },
     "execution_count": 6,
     "metadata": {},
     "output_type": "execute_result"
    }
   ],
   "source": [
    "# Checando os valores de cada coluna:\n",
    "\n",
    "df.ano_campeonato.value_counts()"
   ]
  },
  {
   "cell_type": "code",
   "execution_count": 7,
   "metadata": {},
   "outputs": [],
   "source": [
    "df['ano_campeonato'] = df['ano_campeonato'].replace('dois mil e dez','2010')"
   ]
  },
  {
   "cell_type": "code",
   "execution_count": 8,
   "metadata": {},
   "outputs": [
    {
     "name": "stdout",
     "output_type": "stream",
     "text": [
      "['2008' '2009' '2010' '2011' '2012' '2013' '2014' '2015' '2016' '2017']\n"
     ]
    }
   ],
   "source": [
    "# Verificando se a alteração foi realizada\n",
    "print(df.ano_campeonato.unique())"
   ]
  },
  {
   "cell_type": "code",
   "execution_count": 9,
   "metadata": {},
   "outputs": [
    {
     "data": {
      "text/plain": [
       "24                100\n",
       "28                100\n",
       "21                100\n",
       "35                100\n",
       "10                100\n",
       "11                100\n",
       "22                100\n",
       "31                100\n",
       "34                100\n",
       "37                100\n",
       "2                 100\n",
       "25                100\n",
       "16                100\n",
       "6                 100\n",
       "8                 100\n",
       "27                100\n",
       "36                100\n",
       "20                100\n",
       "4                 100\n",
       "9                 100\n",
       "7                 100\n",
       "15                100\n",
       "23                100\n",
       "13                100\n",
       "32                100\n",
       "38                100\n",
       "26                100\n",
       "14                100\n",
       "17                100\n",
       "29                100\n",
       "33                100\n",
       "30                100\n",
       "3                 100\n",
       "19                100\n",
       "5                 100\n",
       "1                 100\n",
       "18                100\n",
       "12                 98\n",
       "doze                1\n",
       "décima segunda      1\n",
       "Name: rodada, dtype: int64"
      ]
     },
     "execution_count": 9,
     "metadata": {},
     "output_type": "execute_result"
    }
   ],
   "source": [
    "df.rodada.value_counts()"
   ]
  },
  {
   "cell_type": "code",
   "execution_count": 10,
   "metadata": {},
   "outputs": [
    {
     "data": {
      "text/plain": [
       "array(['1', '2', '3', '4', '5', '6', '7', '8', '9', '10', '11', '12',\n",
       "       '13', '14', '15', '16', '17', '18', '19', '20', '21', '22', '23',\n",
       "       '24', '25', '26', '27', '28', '29', '30', '31', '32', '33', '34',\n",
       "       '35', '36', '37', '38'], dtype=object)"
      ]
     },
     "execution_count": 10,
     "metadata": {},
     "output_type": "execute_result"
    }
   ],
   "source": [
    "df['rodada'] = df['rodada'].replace('doze','12')\n",
    "df['rodada'] = df['rodada'].replace('décima segunda','12')\n",
    "df.rodada.unique()"
   ]
  },
  {
   "cell_type": "code",
   "execution_count": 11,
   "metadata": {},
   "outputs": [
    {
     "data": {
      "text/plain": [
       "10      205\n",
       "16      201\n",
       "7       200\n",
       "20      199\n",
       "17      198\n",
       "14      198\n",
       "18      195\n",
       "19      193\n",
       "15      192\n",
       "8       191\n",
       "12      189\n",
       "5       188\n",
       "6       185\n",
       "11      183\n",
       "3       182\n",
       "13      182\n",
       "4       182\n",
       "9       180\n",
       "1       179\n",
       "2       176\n",
       "oito      1\n",
       "um        1\n",
       "Name: colocacao_man, dtype: int64"
      ]
     },
     "execution_count": 11,
     "metadata": {},
     "output_type": "execute_result"
    }
   ],
   "source": [
    "df.colocacao_man.value_counts()"
   ]
  },
  {
   "cell_type": "code",
   "execution_count": 12,
   "metadata": {},
   "outputs": [
    {
     "data": {
      "text/plain": [
       "array(['5', '14', '19', '2', '16', '4', '8', '11', '1', '10', '3', '20',\n",
       "       '15', '6', '13', '12', '7', '17', '9', '18'], dtype=object)"
      ]
     },
     "execution_count": 12,
     "metadata": {},
     "output_type": "execute_result"
    }
   ],
   "source": [
    "df['colocacao_man'] = df['colocacao_man'].replace('um','1')\n",
    "df['colocacao_man'] = df['colocacao_man'].replace('oito','8')\n",
    "df.colocacao_man.unique()"
   ]
  },
  {
   "cell_type": "code",
   "execution_count": 13,
   "metadata": {
    "scrolled": true
   },
   "outputs": [
    {
     "data": {
      "text/plain": [
       "2       204\n",
       "1       200\n",
       "9       200\n",
       "3       198\n",
       "13      198\n",
       "4       198\n",
       "11      197\n",
       "6       194\n",
       "5       192\n",
       "12      191\n",
       "8       188\n",
       "15      188\n",
       "19      187\n",
       "18      185\n",
       "17      182\n",
       "14      182\n",
       "20      181\n",
       "7       180\n",
       "16      179\n",
       "10      175\n",
       "seis      1\n",
       "Name: colocacao_vis, dtype: int64"
      ]
     },
     "execution_count": 13,
     "metadata": {},
     "output_type": "execute_result"
    }
   ],
   "source": [
    "df.colocacao_vis.value_counts()"
   ]
  },
  {
   "cell_type": "code",
   "execution_count": 14,
   "metadata": {},
   "outputs": [
    {
     "data": {
      "text/plain": [
       "array(['5', '14', '19', '2', '16', '4', '8', '11', '1', '10', '3', '20',\n",
       "       '15', '6', '13', '12', '7', '17', '9', '18'], dtype=object)"
      ]
     },
     "execution_count": 14,
     "metadata": {},
     "output_type": "execute_result"
    }
   ],
   "source": [
    "df['colocacao_vis'] = df['colocacao_vis'].replace('seis','6')\n",
    "df.colocacao_man.unique()"
   ]
  },
  {
   "cell_type": "markdown",
   "metadata": {},
   "source": [
    "## Tratando os valores Nulos"
   ]
  },
  {
   "cell_type": "code",
   "execution_count": 15,
   "metadata": {
    "scrolled": false
   },
   "outputs": [
    {
     "data": {
      "text/plain": [
       "ano_campeonato              False\n",
       "data                        False\n",
       "horario                     False\n",
       "rodada                      False\n",
       "estadio                     False\n",
       "arbitro                     False\n",
       "publico                      True\n",
       "publico_max                  True\n",
       "time_man                    False\n",
       "time_vis                    False\n",
       "tecnico_man                  True\n",
       "tecnico_vis                  True\n",
       "colocacao_man               False\n",
       "colocacao_vis               False\n",
       "valor_equipe_titular_man     True\n",
       "valor_equipe_titular_vis     True\n",
       "idade_media_titular_man      True\n",
       "idade_media_titular_vis      True\n",
       "gols_man                     True\n",
       "gols_vis                     True\n",
       "gols_1_tempo_man             True\n",
       "gols_1_tempo_vis             True\n",
       "dtype: bool"
      ]
     },
     "execution_count": 15,
     "metadata": {},
     "output_type": "execute_result"
    }
   ],
   "source": [
    "df.isna().any()"
   ]
  },
  {
   "cell_type": "code",
   "execution_count": 22,
   "metadata": {},
   "outputs": [
    {
     "data": {
      "text/plain": [
       "27"
      ]
     },
     "execution_count": 22,
     "metadata": {},
     "output_type": "execute_result"
    }
   ],
   "source": [
    "média_idade_media_titular_man= round(df[df.idade_media_titular_man.notnull()].idade_media_titular_man.astype(int).median())\n",
    "média_idade_media_titular_man"
   ]
  },
  {
   "cell_type": "code",
   "execution_count": 23,
   "metadata": {},
   "outputs": [],
   "source": [
    "df.idade_media_titular_man.fillna(27, inplace=True)"
   ]
  },
  {
   "cell_type": "code",
   "execution_count": 24,
   "metadata": {},
   "outputs": [
    {
     "data": {
      "text/plain": [
       "array([27.6, 27.3, 26.9, 24.5, 24.6, 25.5, 23.7, 26.4, 26.8, 27.5, 30.1,\n",
       "       24.7, 24.4, 27.1, 21.3, 26.5, 27.4, 27.9, 25. , 27.7, 28.1, 23.9,\n",
       "       27. , 25.3, 25.4, 25.9, 26.3, 25.2, 24. , 24.1, 26.7, 25.6, 28.3,\n",
       "       26.2, 28.7, 26.1, 25.1, 24.3, 28.5, 23. , 29.8, 24.2, 29.2, 28.4,\n",
       "       29.3, 26. , 28. , 28.2, 27.8, 29.6, 24.8, 23.5, 27.2, 24.9, 29. ,\n",
       "       22.7, 25.7, 26.6, 23.6, 28.9, 29.9, 25.8, 29.1, 22.6, 23.3, 23.8,\n",
       "       29.4, 29.5, 28.8, 23.1, 23.4, 23.2, 28.6, 29.7, 30.3, 30. , 22.3,\n",
       "       30.8, 30.5, 22. , 22.9, 30.6, 30.2, 31.3, 31.2, 31.1, 31. , 30.4])"
      ]
     },
     "execution_count": 24,
     "metadata": {},
     "output_type": "execute_result"
    }
   ],
   "source": [
    "idade_media_titular_vis"
   ]
  },
  {
   "cell_type": "code",
   "execution_count": 25,
   "metadata": {},
   "outputs": [
    {
     "data": {
      "text/plain": [
       "26"
      ]
     },
     "execution_count": 25,
     "metadata": {},
     "output_type": "execute_result"
    }
   ],
   "source": [
    "média_idade_media_titular_vis= round(df[df.idade_media_titular_vis.notnull()].idade_media_titular_vis.astype(int).median())\n",
    "média_idade_media_titular_vis"
   ]
  },
  {
   "cell_type": "code",
   "execution_count": 26,
   "metadata": {},
   "outputs": [],
   "source": [
    "df.idade_media_titular_man.fillna(26, inplace=True)"
   ]
  },
  {
   "cell_type": "code",
   "execution_count": 16,
   "metadata": {
    "scrolled": true
   },
   "outputs": [
    {
     "data": {
      "text/plain": [
       "array(['Náutico', 'São Paulo', 'EC Vitória', 'Botafogo', 'Ipatinga FC',\n",
       "       'Coritiba FC', 'Internacional', 'Atlético-MG', 'Flamengo',\n",
       "       'Portuguesa', 'Cruzeiro', 'Sport Recife', 'Vasco da Gama',\n",
       "       'Grêmio', 'Goiás EC', 'Fluminense', 'Atlético-PR', 'Santos FC',\n",
       "       'Figueirense FC', 'Palmeiras', 'Avaí FC', 'Corinthians',\n",
       "       'Santo André', 'Barueri', 'Atlético-GO', 'Ceará SC', 'Guarani',\n",
       "       'América-MG', 'EC Bahia', 'Ponte Preta', 'Criciúma EC',\n",
       "       'Chapecoense', 'Joinville-SC', 'Santa Cruz'], dtype=object)"
      ]
     },
     "execution_count": 16,
     "metadata": {},
     "output_type": "execute_result"
    }
   ],
   "source": [
    "df.time_man.unique()"
   ]
  },
  {
   "cell_type": "code",
   "execution_count": 17,
   "metadata": {},
   "outputs": [
    {
     "data": {
      "text/plain": [
       "array([   nan, 19800., 46154.])"
      ]
     },
     "execution_count": 17,
     "metadata": {},
     "output_type": "execute_result"
    }
   ],
   "source": [
    "Nautico = (df['time_man'] == 'Náutico')\n",
    "Nautico_pub = df[Nautico].copy()\n",
    "Nautico_pub.publico_max.unique()"
   ]
  },
  {
   "cell_type": "code",
   "execution_count": 18,
   "metadata": {},
   "outputs": [],
   "source": [
    "Nautico_pub.publico_max.fillna(46154., inplace=True)"
   ]
  },
  {
   "cell_type": "code",
   "execution_count": 19,
   "metadata": {},
   "outputs": [
    {
     "data": {
      "text/plain": [
       "array([46154., 19800.])"
      ]
     },
     "execution_count": 19,
     "metadata": {},
     "output_type": "execute_result"
    }
   ],
   "source": [
    "Nautico_pub.publico_max.unique()\n"
   ]
  }
 ],
 "metadata": {
  "kernelspec": {
   "display_name": "Python 3",
   "language": "python",
   "name": "python3"
  },
  "language_info": {
   "codemirror_mode": {
    "name": "ipython",
    "version": 3
   },
   "file_extension": ".py",
   "mimetype": "text/x-python",
   "name": "python",
   "nbconvert_exporter": "python",
   "pygments_lexer": "ipython3",
   "version": "3.8.5"
  }
 },
 "nbformat": 4,
 "nbformat_minor": 4
}
